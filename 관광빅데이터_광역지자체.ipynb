{
 "cells": [
  {
   "cell_type": "code",
   "execution_count": 1,
   "id": "06c30dca",
   "metadata": {},
   "outputs": [],
   "source": [
    "import requests\n",
    "import pandas as pd\n",
    "import numpy as np\n",
    "import seaborn as sns\n",
    "import matplotlib.pyplot as plt\n",
    "import math"
   ]
  },
  {
   "cell_type": "code",
   "execution_count": 14,
   "id": "91f4107b",
   "metadata": {},
   "outputs": [],
   "source": [
    "# 한글설정 & 마이너스표시\n",
    "plt.rc('font',family='Malgun Gothic') \n",
    "plt.rc('axes',unicode_minus=False)"
   ]
  },
  {
   "cell_type": "code",
   "execution_count": 36,
   "id": "dffec5e9",
   "metadata": {},
   "outputs": [],
   "source": [
    "url = 'http://apis.data.go.kr/B551011/DataLabService/metcoRegnVisitrDDList'"
   ]
  },
  {
   "cell_type": "code",
   "execution_count": 41,
   "id": "dd5d1916",
   "metadata": {},
   "outputs": [],
   "source": [
    "params = {\n",
    "    \n",
    "    \"numOfRows\" : 100,\n",
    "    \"pageNo\" : 1,\n",
    "    \"MobileOS\" : \"ETC\",\n",
    "    \"MobileApp\" : \"AppTest\",\n",
    "    \"serviceKey\" : \"2s8gpTy4cAHLFmocDZh70QO94wQfxdEZMkauGakoluXCgPneCoqhFKJ7KqYE3FChzBbnNQrmtkZXPsJn8QQiGQ==\",\n",
    "    \"_type\" : \"json\",\n",
    "    \"startYmd\" : \"20200101\",\n",
    "    \"endYmd\": \"20240404\",\n",
    "    \n",
    "}"
   ]
  },
  {
   "cell_type": "code",
   "execution_count": 42,
   "id": "b9ad60c8",
   "metadata": {},
   "outputs": [
    {
     "data": {
      "text/plain": [
       "200"
      ]
     },
     "execution_count": 42,
     "metadata": {},
     "output_type": "execute_result"
    }
   ],
   "source": [
    "res = requests.get(url,params=params)\n",
    "res.status_code"
   ]
  },
  {
   "cell_type": "code",
   "execution_count": 44,
   "id": "908598ad",
   "metadata": {},
   "outputs": [
    {
     "data": {
      "text/plain": [
       "'http://apis.data.go.kr/B551011/DataLabService/metcoRegnVisitrDDList?numOfRows=100&pageNo=1&MobileOS=ETC&MobileApp=AppTest&serviceKey=2s8gpTy4cAHLFmocDZh70QO94wQfxdEZMkauGakoluXCgPneCoqhFKJ7KqYE3FChzBbnNQrmtkZXPsJn8QQiGQ%3D%3D&_type=json&startYmd=20200101&endYmd=20240404'"
      ]
     },
     "execution_count": 44,
     "metadata": {},
     "output_type": "execute_result"
    }
   ],
   "source": [
    "res.url"
   ]
  },
  {
   "cell_type": "code",
   "execution_count": 50,
   "id": "11c18432",
   "metadata": {},
   "outputs": [],
   "source": [
    "json_str = res.text\n",
    "dictionary = pd.read_json(json_str)"
   ]
  },
  {
   "cell_type": "code",
   "execution_count": 52,
   "id": "bfb6025c",
   "metadata": {},
   "outputs": [
    {
     "data": {
      "text/html": [
       "<div>\n",
       "<style scoped>\n",
       "    .dataframe tbody tr th:only-of-type {\n",
       "        vertical-align: middle;\n",
       "    }\n",
       "\n",
       "    .dataframe tbody tr th {\n",
       "        vertical-align: top;\n",
       "    }\n",
       "\n",
       "    .dataframe thead th {\n",
       "        text-align: right;\n",
       "    }\n",
       "</style>\n",
       "<table border=\"1\" class=\"dataframe\">\n",
       "  <thead>\n",
       "    <tr style=\"text-align: right;\">\n",
       "      <th></th>\n",
       "      <th>areaCode</th>\n",
       "      <th>areaNm</th>\n",
       "      <th>daywkDivCd</th>\n",
       "      <th>daywkDivNm</th>\n",
       "      <th>touDivCd</th>\n",
       "      <th>touDivNm</th>\n",
       "      <th>touNum</th>\n",
       "      <th>baseYmd</th>\n",
       "    </tr>\n",
       "  </thead>\n",
       "  <tbody>\n",
       "    <tr>\n",
       "      <th>0</th>\n",
       "      <td>11</td>\n",
       "      <td>서울특별시</td>\n",
       "      <td>1</td>\n",
       "      <td>월요일</td>\n",
       "      <td>1</td>\n",
       "      <td>현지인(a)</td>\n",
       "      <td>4631749.5</td>\n",
       "      <td>20200106</td>\n",
       "    </tr>\n",
       "    <tr>\n",
       "      <th>1</th>\n",
       "      <td>11</td>\n",
       "      <td>서울특별시</td>\n",
       "      <td>1</td>\n",
       "      <td>월요일</td>\n",
       "      <td>1</td>\n",
       "      <td>현지인(a)</td>\n",
       "      <td>4686647.0</td>\n",
       "      <td>20200113</td>\n",
       "    </tr>\n",
       "    <tr>\n",
       "      <th>2</th>\n",
       "      <td>11</td>\n",
       "      <td>서울특별시</td>\n",
       "      <td>1</td>\n",
       "      <td>월요일</td>\n",
       "      <td>1</td>\n",
       "      <td>현지인(a)</td>\n",
       "      <td>4677137.5</td>\n",
       "      <td>20200120</td>\n",
       "    </tr>\n",
       "    <tr>\n",
       "      <th>3</th>\n",
       "      <td>11</td>\n",
       "      <td>서울특별시</td>\n",
       "      <td>1</td>\n",
       "      <td>월요일</td>\n",
       "      <td>1</td>\n",
       "      <td>현지인(a)</td>\n",
       "      <td>3704991.5</td>\n",
       "      <td>20200127</td>\n",
       "    </tr>\n",
       "    <tr>\n",
       "      <th>4</th>\n",
       "      <td>11</td>\n",
       "      <td>서울특별시</td>\n",
       "      <td>1</td>\n",
       "      <td>월요일</td>\n",
       "      <td>1</td>\n",
       "      <td>현지인(a)</td>\n",
       "      <td>4617147.5</td>\n",
       "      <td>20200203</td>\n",
       "    </tr>\n",
       "  </tbody>\n",
       "</table>\n",
       "</div>"
      ],
      "text/plain": [
       "  areaCode areaNm daywkDivCd daywkDivNm touDivCd touDivNm     touNum   baseYmd\n",
       "0       11  서울특별시          1        월요일        1   현지인(a)  4631749.5  20200106\n",
       "1       11  서울특별시          1        월요일        1   현지인(a)  4686647.0  20200113\n",
       "2       11  서울특별시          1        월요일        1   현지인(a)  4677137.5  20200120\n",
       "3       11  서울특별시          1        월요일        1   현지인(a)  3704991.5  20200127\n",
       "4       11  서울특별시          1        월요일        1   현지인(a)  4617147.5  20200203"
      ]
     },
     "execution_count": 52,
     "metadata": {},
     "output_type": "execute_result"
    }
   ],
   "source": [
    "df = pd.json_normalize(dictionary['response']['body']['items']['item'])\n",
    "df.head(5)"
   ]
  },
  {
   "cell_type": "code",
   "execution_count": 57,
   "id": "eb96bbd6",
   "metadata": {},
   "outputs": [],
   "source": [
    "max_numOfRows = 1000"
   ]
  },
  {
   "cell_type": "code",
   "execution_count": 58,
   "id": "77f5b979",
   "metadata": {},
   "outputs": [
    {
     "data": {
      "text/plain": [
       "77418"
      ]
     },
     "execution_count": 58,
     "metadata": {},
     "output_type": "execute_result"
    }
   ],
   "source": [
    "totalCount = dictionary['response']['body']['totalCount']\n",
    "totalCount"
   ]
  },
  {
   "cell_type": "code",
   "execution_count": 59,
   "id": "e7e748b8",
   "metadata": {},
   "outputs": [
    {
     "data": {
      "text/plain": [
       "78"
      ]
     },
     "execution_count": 59,
     "metadata": {},
     "output_type": "execute_result"
    }
   ],
   "source": [
    "request_cnt = math.ceil(totalCount / max_numOfRows)\n",
    "request_cnt"
   ]
  },
  {
   "cell_type": "code",
   "execution_count": 60,
   "id": "cea4ade3",
   "metadata": {},
   "outputs": [],
   "source": [
    "def get_params (numOfRows, req_cnt):\n",
    "    params = {\n",
    "\n",
    "        \"numOfRows\" : numOfRows,\n",
    "        \"pageNo\" : req_cnt,\n",
    "        \"MobileOS\" : \"ETC\",\n",
    "        \"MobileApp\" : \"AppTest\",\n",
    "        \"serviceKey\" : \"2s8gpTy4cAHLFmocDZh70QO94wQfxdEZMkauGakoluXCgPneCoqhFKJ7KqYE3FChzBbnNQrmtkZXPsJn8QQiGQ==\",\n",
    "        \"_type\" : \"json\",\n",
    "        \"startYmd\" : \"20200101\",\n",
    "        \"endYmd\": \"20240404\",\n",
    "\n",
    "    }\n",
    "    return params"
   ]
  },
  {
   "cell_type": "code",
   "execution_count": 61,
   "id": "3a2c42f3",
   "metadata": {},
   "outputs": [
    {
     "name": "stdout",
     "output_type": "stream",
     "text": [
      "http://apis.data.go.kr/B551011/DataLabService/metcoRegnVisitrDDList?numOfRows=1000&pageNo=1&MobileOS=ETC&MobileApp=AppTest&serviceKey=2s8gpTy4cAHLFmocDZh70QO94wQfxdEZMkauGakoluXCgPneCoqhFKJ7KqYE3FChzBbnNQrmtkZXPsJn8QQiGQ%3D%3D&_type=json&startYmd=20200101&endYmd=20240404\n",
      "http://apis.data.go.kr/B551011/DataLabService/metcoRegnVisitrDDList?numOfRows=1000&pageNo=2&MobileOS=ETC&MobileApp=AppTest&serviceKey=2s8gpTy4cAHLFmocDZh70QO94wQfxdEZMkauGakoluXCgPneCoqhFKJ7KqYE3FChzBbnNQrmtkZXPsJn8QQiGQ%3D%3D&_type=json&startYmd=20200101&endYmd=20240404\n",
      "http://apis.data.go.kr/B551011/DataLabService/metcoRegnVisitrDDList?numOfRows=1000&pageNo=3&MobileOS=ETC&MobileApp=AppTest&serviceKey=2s8gpTy4cAHLFmocDZh70QO94wQfxdEZMkauGakoluXCgPneCoqhFKJ7KqYE3FChzBbnNQrmtkZXPsJn8QQiGQ%3D%3D&_type=json&startYmd=20200101&endYmd=20240404\n",
      "http://apis.data.go.kr/B551011/DataLabService/metcoRegnVisitrDDList?numOfRows=1000&pageNo=4&MobileOS=ETC&MobileApp=AppTest&serviceKey=2s8gpTy4cAHLFmocDZh70QO94wQfxdEZMkauGakoluXCgPneCoqhFKJ7KqYE3FChzBbnNQrmtkZXPsJn8QQiGQ%3D%3D&_type=json&startYmd=20200101&endYmd=20240404\n",
      "http://apis.data.go.kr/B551011/DataLabService/metcoRegnVisitrDDList?numOfRows=1000&pageNo=5&MobileOS=ETC&MobileApp=AppTest&serviceKey=2s8gpTy4cAHLFmocDZh70QO94wQfxdEZMkauGakoluXCgPneCoqhFKJ7KqYE3FChzBbnNQrmtkZXPsJn8QQiGQ%3D%3D&_type=json&startYmd=20200101&endYmd=20240404\n",
      "http://apis.data.go.kr/B551011/DataLabService/metcoRegnVisitrDDList?numOfRows=1000&pageNo=6&MobileOS=ETC&MobileApp=AppTest&serviceKey=2s8gpTy4cAHLFmocDZh70QO94wQfxdEZMkauGakoluXCgPneCoqhFKJ7KqYE3FChzBbnNQrmtkZXPsJn8QQiGQ%3D%3D&_type=json&startYmd=20200101&endYmd=20240404\n",
      "http://apis.data.go.kr/B551011/DataLabService/metcoRegnVisitrDDList?numOfRows=1000&pageNo=7&MobileOS=ETC&MobileApp=AppTest&serviceKey=2s8gpTy4cAHLFmocDZh70QO94wQfxdEZMkauGakoluXCgPneCoqhFKJ7KqYE3FChzBbnNQrmtkZXPsJn8QQiGQ%3D%3D&_type=json&startYmd=20200101&endYmd=20240404\n",
      "http://apis.data.go.kr/B551011/DataLabService/metcoRegnVisitrDDList?numOfRows=1000&pageNo=8&MobileOS=ETC&MobileApp=AppTest&serviceKey=2s8gpTy4cAHLFmocDZh70QO94wQfxdEZMkauGakoluXCgPneCoqhFKJ7KqYE3FChzBbnNQrmtkZXPsJn8QQiGQ%3D%3D&_type=json&startYmd=20200101&endYmd=20240404\n",
      "http://apis.data.go.kr/B551011/DataLabService/metcoRegnVisitrDDList?numOfRows=1000&pageNo=9&MobileOS=ETC&MobileApp=AppTest&serviceKey=2s8gpTy4cAHLFmocDZh70QO94wQfxdEZMkauGakoluXCgPneCoqhFKJ7KqYE3FChzBbnNQrmtkZXPsJn8QQiGQ%3D%3D&_type=json&startYmd=20200101&endYmd=20240404\n",
      "http://apis.data.go.kr/B551011/DataLabService/metcoRegnVisitrDDList?numOfRows=1000&pageNo=10&MobileOS=ETC&MobileApp=AppTest&serviceKey=2s8gpTy4cAHLFmocDZh70QO94wQfxdEZMkauGakoluXCgPneCoqhFKJ7KqYE3FChzBbnNQrmtkZXPsJn8QQiGQ%3D%3D&_type=json&startYmd=20200101&endYmd=20240404\n",
      "http://apis.data.go.kr/B551011/DataLabService/metcoRegnVisitrDDList?numOfRows=1000&pageNo=11&MobileOS=ETC&MobileApp=AppTest&serviceKey=2s8gpTy4cAHLFmocDZh70QO94wQfxdEZMkauGakoluXCgPneCoqhFKJ7KqYE3FChzBbnNQrmtkZXPsJn8QQiGQ%3D%3D&_type=json&startYmd=20200101&endYmd=20240404\n",
      "http://apis.data.go.kr/B551011/DataLabService/metcoRegnVisitrDDList?numOfRows=1000&pageNo=12&MobileOS=ETC&MobileApp=AppTest&serviceKey=2s8gpTy4cAHLFmocDZh70QO94wQfxdEZMkauGakoluXCgPneCoqhFKJ7KqYE3FChzBbnNQrmtkZXPsJn8QQiGQ%3D%3D&_type=json&startYmd=20200101&endYmd=20240404\n",
      "http://apis.data.go.kr/B551011/DataLabService/metcoRegnVisitrDDList?numOfRows=1000&pageNo=13&MobileOS=ETC&MobileApp=AppTest&serviceKey=2s8gpTy4cAHLFmocDZh70QO94wQfxdEZMkauGakoluXCgPneCoqhFKJ7KqYE3FChzBbnNQrmtkZXPsJn8QQiGQ%3D%3D&_type=json&startYmd=20200101&endYmd=20240404\n",
      "http://apis.data.go.kr/B551011/DataLabService/metcoRegnVisitrDDList?numOfRows=1000&pageNo=14&MobileOS=ETC&MobileApp=AppTest&serviceKey=2s8gpTy4cAHLFmocDZh70QO94wQfxdEZMkauGakoluXCgPneCoqhFKJ7KqYE3FChzBbnNQrmtkZXPsJn8QQiGQ%3D%3D&_type=json&startYmd=20200101&endYmd=20240404\n",
      "http://apis.data.go.kr/B551011/DataLabService/metcoRegnVisitrDDList?numOfRows=1000&pageNo=15&MobileOS=ETC&MobileApp=AppTest&serviceKey=2s8gpTy4cAHLFmocDZh70QO94wQfxdEZMkauGakoluXCgPneCoqhFKJ7KqYE3FChzBbnNQrmtkZXPsJn8QQiGQ%3D%3D&_type=json&startYmd=20200101&endYmd=20240404\n",
      "http://apis.data.go.kr/B551011/DataLabService/metcoRegnVisitrDDList?numOfRows=1000&pageNo=16&MobileOS=ETC&MobileApp=AppTest&serviceKey=2s8gpTy4cAHLFmocDZh70QO94wQfxdEZMkauGakoluXCgPneCoqhFKJ7KqYE3FChzBbnNQrmtkZXPsJn8QQiGQ%3D%3D&_type=json&startYmd=20200101&endYmd=20240404\n",
      "http://apis.data.go.kr/B551011/DataLabService/metcoRegnVisitrDDList?numOfRows=1000&pageNo=17&MobileOS=ETC&MobileApp=AppTest&serviceKey=2s8gpTy4cAHLFmocDZh70QO94wQfxdEZMkauGakoluXCgPneCoqhFKJ7KqYE3FChzBbnNQrmtkZXPsJn8QQiGQ%3D%3D&_type=json&startYmd=20200101&endYmd=20240404\n",
      "http://apis.data.go.kr/B551011/DataLabService/metcoRegnVisitrDDList?numOfRows=1000&pageNo=18&MobileOS=ETC&MobileApp=AppTest&serviceKey=2s8gpTy4cAHLFmocDZh70QO94wQfxdEZMkauGakoluXCgPneCoqhFKJ7KqYE3FChzBbnNQrmtkZXPsJn8QQiGQ%3D%3D&_type=json&startYmd=20200101&endYmd=20240404\n",
      "http://apis.data.go.kr/B551011/DataLabService/metcoRegnVisitrDDList?numOfRows=1000&pageNo=19&MobileOS=ETC&MobileApp=AppTest&serviceKey=2s8gpTy4cAHLFmocDZh70QO94wQfxdEZMkauGakoluXCgPneCoqhFKJ7KqYE3FChzBbnNQrmtkZXPsJn8QQiGQ%3D%3D&_type=json&startYmd=20200101&endYmd=20240404\n",
      "http://apis.data.go.kr/B551011/DataLabService/metcoRegnVisitrDDList?numOfRows=1000&pageNo=20&MobileOS=ETC&MobileApp=AppTest&serviceKey=2s8gpTy4cAHLFmocDZh70QO94wQfxdEZMkauGakoluXCgPneCoqhFKJ7KqYE3FChzBbnNQrmtkZXPsJn8QQiGQ%3D%3D&_type=json&startYmd=20200101&endYmd=20240404\n",
      "http://apis.data.go.kr/B551011/DataLabService/metcoRegnVisitrDDList?numOfRows=1000&pageNo=21&MobileOS=ETC&MobileApp=AppTest&serviceKey=2s8gpTy4cAHLFmocDZh70QO94wQfxdEZMkauGakoluXCgPneCoqhFKJ7KqYE3FChzBbnNQrmtkZXPsJn8QQiGQ%3D%3D&_type=json&startYmd=20200101&endYmd=20240404\n",
      "http://apis.data.go.kr/B551011/DataLabService/metcoRegnVisitrDDList?numOfRows=1000&pageNo=22&MobileOS=ETC&MobileApp=AppTest&serviceKey=2s8gpTy4cAHLFmocDZh70QO94wQfxdEZMkauGakoluXCgPneCoqhFKJ7KqYE3FChzBbnNQrmtkZXPsJn8QQiGQ%3D%3D&_type=json&startYmd=20200101&endYmd=20240404\n",
      "http://apis.data.go.kr/B551011/DataLabService/metcoRegnVisitrDDList?numOfRows=1000&pageNo=23&MobileOS=ETC&MobileApp=AppTest&serviceKey=2s8gpTy4cAHLFmocDZh70QO94wQfxdEZMkauGakoluXCgPneCoqhFKJ7KqYE3FChzBbnNQrmtkZXPsJn8QQiGQ%3D%3D&_type=json&startYmd=20200101&endYmd=20240404\n",
      "http://apis.data.go.kr/B551011/DataLabService/metcoRegnVisitrDDList?numOfRows=1000&pageNo=24&MobileOS=ETC&MobileApp=AppTest&serviceKey=2s8gpTy4cAHLFmocDZh70QO94wQfxdEZMkauGakoluXCgPneCoqhFKJ7KqYE3FChzBbnNQrmtkZXPsJn8QQiGQ%3D%3D&_type=json&startYmd=20200101&endYmd=20240404\n",
      "http://apis.data.go.kr/B551011/DataLabService/metcoRegnVisitrDDList?numOfRows=1000&pageNo=25&MobileOS=ETC&MobileApp=AppTest&serviceKey=2s8gpTy4cAHLFmocDZh70QO94wQfxdEZMkauGakoluXCgPneCoqhFKJ7KqYE3FChzBbnNQrmtkZXPsJn8QQiGQ%3D%3D&_type=json&startYmd=20200101&endYmd=20240404\n",
      "http://apis.data.go.kr/B551011/DataLabService/metcoRegnVisitrDDList?numOfRows=1000&pageNo=26&MobileOS=ETC&MobileApp=AppTest&serviceKey=2s8gpTy4cAHLFmocDZh70QO94wQfxdEZMkauGakoluXCgPneCoqhFKJ7KqYE3FChzBbnNQrmtkZXPsJn8QQiGQ%3D%3D&_type=json&startYmd=20200101&endYmd=20240404\n",
      "http://apis.data.go.kr/B551011/DataLabService/metcoRegnVisitrDDList?numOfRows=1000&pageNo=27&MobileOS=ETC&MobileApp=AppTest&serviceKey=2s8gpTy4cAHLFmocDZh70QO94wQfxdEZMkauGakoluXCgPneCoqhFKJ7KqYE3FChzBbnNQrmtkZXPsJn8QQiGQ%3D%3D&_type=json&startYmd=20200101&endYmd=20240404\n",
      "http://apis.data.go.kr/B551011/DataLabService/metcoRegnVisitrDDList?numOfRows=1000&pageNo=28&MobileOS=ETC&MobileApp=AppTest&serviceKey=2s8gpTy4cAHLFmocDZh70QO94wQfxdEZMkauGakoluXCgPneCoqhFKJ7KqYE3FChzBbnNQrmtkZXPsJn8QQiGQ%3D%3D&_type=json&startYmd=20200101&endYmd=20240404\n",
      "http://apis.data.go.kr/B551011/DataLabService/metcoRegnVisitrDDList?numOfRows=1000&pageNo=29&MobileOS=ETC&MobileApp=AppTest&serviceKey=2s8gpTy4cAHLFmocDZh70QO94wQfxdEZMkauGakoluXCgPneCoqhFKJ7KqYE3FChzBbnNQrmtkZXPsJn8QQiGQ%3D%3D&_type=json&startYmd=20200101&endYmd=20240404\n",
      "http://apis.data.go.kr/B551011/DataLabService/metcoRegnVisitrDDList?numOfRows=1000&pageNo=30&MobileOS=ETC&MobileApp=AppTest&serviceKey=2s8gpTy4cAHLFmocDZh70QO94wQfxdEZMkauGakoluXCgPneCoqhFKJ7KqYE3FChzBbnNQrmtkZXPsJn8QQiGQ%3D%3D&_type=json&startYmd=20200101&endYmd=20240404\n",
      "http://apis.data.go.kr/B551011/DataLabService/metcoRegnVisitrDDList?numOfRows=1000&pageNo=31&MobileOS=ETC&MobileApp=AppTest&serviceKey=2s8gpTy4cAHLFmocDZh70QO94wQfxdEZMkauGakoluXCgPneCoqhFKJ7KqYE3FChzBbnNQrmtkZXPsJn8QQiGQ%3D%3D&_type=json&startYmd=20200101&endYmd=20240404\n"
     ]
    },
    {
     "name": "stdout",
     "output_type": "stream",
     "text": [
      "http://apis.data.go.kr/B551011/DataLabService/metcoRegnVisitrDDList?numOfRows=1000&pageNo=32&MobileOS=ETC&MobileApp=AppTest&serviceKey=2s8gpTy4cAHLFmocDZh70QO94wQfxdEZMkauGakoluXCgPneCoqhFKJ7KqYE3FChzBbnNQrmtkZXPsJn8QQiGQ%3D%3D&_type=json&startYmd=20200101&endYmd=20240404\n",
      "http://apis.data.go.kr/B551011/DataLabService/metcoRegnVisitrDDList?numOfRows=1000&pageNo=33&MobileOS=ETC&MobileApp=AppTest&serviceKey=2s8gpTy4cAHLFmocDZh70QO94wQfxdEZMkauGakoluXCgPneCoqhFKJ7KqYE3FChzBbnNQrmtkZXPsJn8QQiGQ%3D%3D&_type=json&startYmd=20200101&endYmd=20240404\n",
      "http://apis.data.go.kr/B551011/DataLabService/metcoRegnVisitrDDList?numOfRows=1000&pageNo=34&MobileOS=ETC&MobileApp=AppTest&serviceKey=2s8gpTy4cAHLFmocDZh70QO94wQfxdEZMkauGakoluXCgPneCoqhFKJ7KqYE3FChzBbnNQrmtkZXPsJn8QQiGQ%3D%3D&_type=json&startYmd=20200101&endYmd=20240404\n",
      "http://apis.data.go.kr/B551011/DataLabService/metcoRegnVisitrDDList?numOfRows=1000&pageNo=35&MobileOS=ETC&MobileApp=AppTest&serviceKey=2s8gpTy4cAHLFmocDZh70QO94wQfxdEZMkauGakoluXCgPneCoqhFKJ7KqYE3FChzBbnNQrmtkZXPsJn8QQiGQ%3D%3D&_type=json&startYmd=20200101&endYmd=20240404\n",
      "http://apis.data.go.kr/B551011/DataLabService/metcoRegnVisitrDDList?numOfRows=1000&pageNo=36&MobileOS=ETC&MobileApp=AppTest&serviceKey=2s8gpTy4cAHLFmocDZh70QO94wQfxdEZMkauGakoluXCgPneCoqhFKJ7KqYE3FChzBbnNQrmtkZXPsJn8QQiGQ%3D%3D&_type=json&startYmd=20200101&endYmd=20240404\n",
      "http://apis.data.go.kr/B551011/DataLabService/metcoRegnVisitrDDList?numOfRows=1000&pageNo=37&MobileOS=ETC&MobileApp=AppTest&serviceKey=2s8gpTy4cAHLFmocDZh70QO94wQfxdEZMkauGakoluXCgPneCoqhFKJ7KqYE3FChzBbnNQrmtkZXPsJn8QQiGQ%3D%3D&_type=json&startYmd=20200101&endYmd=20240404\n",
      "http://apis.data.go.kr/B551011/DataLabService/metcoRegnVisitrDDList?numOfRows=1000&pageNo=38&MobileOS=ETC&MobileApp=AppTest&serviceKey=2s8gpTy4cAHLFmocDZh70QO94wQfxdEZMkauGakoluXCgPneCoqhFKJ7KqYE3FChzBbnNQrmtkZXPsJn8QQiGQ%3D%3D&_type=json&startYmd=20200101&endYmd=20240404\n",
      "http://apis.data.go.kr/B551011/DataLabService/metcoRegnVisitrDDList?numOfRows=1000&pageNo=39&MobileOS=ETC&MobileApp=AppTest&serviceKey=2s8gpTy4cAHLFmocDZh70QO94wQfxdEZMkauGakoluXCgPneCoqhFKJ7KqYE3FChzBbnNQrmtkZXPsJn8QQiGQ%3D%3D&_type=json&startYmd=20200101&endYmd=20240404\n",
      "http://apis.data.go.kr/B551011/DataLabService/metcoRegnVisitrDDList?numOfRows=1000&pageNo=40&MobileOS=ETC&MobileApp=AppTest&serviceKey=2s8gpTy4cAHLFmocDZh70QO94wQfxdEZMkauGakoluXCgPneCoqhFKJ7KqYE3FChzBbnNQrmtkZXPsJn8QQiGQ%3D%3D&_type=json&startYmd=20200101&endYmd=20240404\n",
      "http://apis.data.go.kr/B551011/DataLabService/metcoRegnVisitrDDList?numOfRows=1000&pageNo=41&MobileOS=ETC&MobileApp=AppTest&serviceKey=2s8gpTy4cAHLFmocDZh70QO94wQfxdEZMkauGakoluXCgPneCoqhFKJ7KqYE3FChzBbnNQrmtkZXPsJn8QQiGQ%3D%3D&_type=json&startYmd=20200101&endYmd=20240404\n",
      "http://apis.data.go.kr/B551011/DataLabService/metcoRegnVisitrDDList?numOfRows=1000&pageNo=42&MobileOS=ETC&MobileApp=AppTest&serviceKey=2s8gpTy4cAHLFmocDZh70QO94wQfxdEZMkauGakoluXCgPneCoqhFKJ7KqYE3FChzBbnNQrmtkZXPsJn8QQiGQ%3D%3D&_type=json&startYmd=20200101&endYmd=20240404\n",
      "http://apis.data.go.kr/B551011/DataLabService/metcoRegnVisitrDDList?numOfRows=1000&pageNo=43&MobileOS=ETC&MobileApp=AppTest&serviceKey=2s8gpTy4cAHLFmocDZh70QO94wQfxdEZMkauGakoluXCgPneCoqhFKJ7KqYE3FChzBbnNQrmtkZXPsJn8QQiGQ%3D%3D&_type=json&startYmd=20200101&endYmd=20240404\n",
      "http://apis.data.go.kr/B551011/DataLabService/metcoRegnVisitrDDList?numOfRows=1000&pageNo=44&MobileOS=ETC&MobileApp=AppTest&serviceKey=2s8gpTy4cAHLFmocDZh70QO94wQfxdEZMkauGakoluXCgPneCoqhFKJ7KqYE3FChzBbnNQrmtkZXPsJn8QQiGQ%3D%3D&_type=json&startYmd=20200101&endYmd=20240404\n",
      "http://apis.data.go.kr/B551011/DataLabService/metcoRegnVisitrDDList?numOfRows=1000&pageNo=45&MobileOS=ETC&MobileApp=AppTest&serviceKey=2s8gpTy4cAHLFmocDZh70QO94wQfxdEZMkauGakoluXCgPneCoqhFKJ7KqYE3FChzBbnNQrmtkZXPsJn8QQiGQ%3D%3D&_type=json&startYmd=20200101&endYmd=20240404\n",
      "http://apis.data.go.kr/B551011/DataLabService/metcoRegnVisitrDDList?numOfRows=1000&pageNo=46&MobileOS=ETC&MobileApp=AppTest&serviceKey=2s8gpTy4cAHLFmocDZh70QO94wQfxdEZMkauGakoluXCgPneCoqhFKJ7KqYE3FChzBbnNQrmtkZXPsJn8QQiGQ%3D%3D&_type=json&startYmd=20200101&endYmd=20240404\n",
      "http://apis.data.go.kr/B551011/DataLabService/metcoRegnVisitrDDList?numOfRows=1000&pageNo=47&MobileOS=ETC&MobileApp=AppTest&serviceKey=2s8gpTy4cAHLFmocDZh70QO94wQfxdEZMkauGakoluXCgPneCoqhFKJ7KqYE3FChzBbnNQrmtkZXPsJn8QQiGQ%3D%3D&_type=json&startYmd=20200101&endYmd=20240404\n",
      "http://apis.data.go.kr/B551011/DataLabService/metcoRegnVisitrDDList?numOfRows=1000&pageNo=48&MobileOS=ETC&MobileApp=AppTest&serviceKey=2s8gpTy4cAHLFmocDZh70QO94wQfxdEZMkauGakoluXCgPneCoqhFKJ7KqYE3FChzBbnNQrmtkZXPsJn8QQiGQ%3D%3D&_type=json&startYmd=20200101&endYmd=20240404\n",
      "http://apis.data.go.kr/B551011/DataLabService/metcoRegnVisitrDDList?numOfRows=1000&pageNo=49&MobileOS=ETC&MobileApp=AppTest&serviceKey=2s8gpTy4cAHLFmocDZh70QO94wQfxdEZMkauGakoluXCgPneCoqhFKJ7KqYE3FChzBbnNQrmtkZXPsJn8QQiGQ%3D%3D&_type=json&startYmd=20200101&endYmd=20240404\n",
      "http://apis.data.go.kr/B551011/DataLabService/metcoRegnVisitrDDList?numOfRows=1000&pageNo=50&MobileOS=ETC&MobileApp=AppTest&serviceKey=2s8gpTy4cAHLFmocDZh70QO94wQfxdEZMkauGakoluXCgPneCoqhFKJ7KqYE3FChzBbnNQrmtkZXPsJn8QQiGQ%3D%3D&_type=json&startYmd=20200101&endYmd=20240404\n",
      "http://apis.data.go.kr/B551011/DataLabService/metcoRegnVisitrDDList?numOfRows=1000&pageNo=51&MobileOS=ETC&MobileApp=AppTest&serviceKey=2s8gpTy4cAHLFmocDZh70QO94wQfxdEZMkauGakoluXCgPneCoqhFKJ7KqYE3FChzBbnNQrmtkZXPsJn8QQiGQ%3D%3D&_type=json&startYmd=20200101&endYmd=20240404\n",
      "http://apis.data.go.kr/B551011/DataLabService/metcoRegnVisitrDDList?numOfRows=1000&pageNo=52&MobileOS=ETC&MobileApp=AppTest&serviceKey=2s8gpTy4cAHLFmocDZh70QO94wQfxdEZMkauGakoluXCgPneCoqhFKJ7KqYE3FChzBbnNQrmtkZXPsJn8QQiGQ%3D%3D&_type=json&startYmd=20200101&endYmd=20240404\n",
      "http://apis.data.go.kr/B551011/DataLabService/metcoRegnVisitrDDList?numOfRows=1000&pageNo=53&MobileOS=ETC&MobileApp=AppTest&serviceKey=2s8gpTy4cAHLFmocDZh70QO94wQfxdEZMkauGakoluXCgPneCoqhFKJ7KqYE3FChzBbnNQrmtkZXPsJn8QQiGQ%3D%3D&_type=json&startYmd=20200101&endYmd=20240404\n",
      "http://apis.data.go.kr/B551011/DataLabService/metcoRegnVisitrDDList?numOfRows=1000&pageNo=54&MobileOS=ETC&MobileApp=AppTest&serviceKey=2s8gpTy4cAHLFmocDZh70QO94wQfxdEZMkauGakoluXCgPneCoqhFKJ7KqYE3FChzBbnNQrmtkZXPsJn8QQiGQ%3D%3D&_type=json&startYmd=20200101&endYmd=20240404\n",
      "http://apis.data.go.kr/B551011/DataLabService/metcoRegnVisitrDDList?numOfRows=1000&pageNo=55&MobileOS=ETC&MobileApp=AppTest&serviceKey=2s8gpTy4cAHLFmocDZh70QO94wQfxdEZMkauGakoluXCgPneCoqhFKJ7KqYE3FChzBbnNQrmtkZXPsJn8QQiGQ%3D%3D&_type=json&startYmd=20200101&endYmd=20240404\n",
      "http://apis.data.go.kr/B551011/DataLabService/metcoRegnVisitrDDList?numOfRows=1000&pageNo=56&MobileOS=ETC&MobileApp=AppTest&serviceKey=2s8gpTy4cAHLFmocDZh70QO94wQfxdEZMkauGakoluXCgPneCoqhFKJ7KqYE3FChzBbnNQrmtkZXPsJn8QQiGQ%3D%3D&_type=json&startYmd=20200101&endYmd=20240404\n",
      "http://apis.data.go.kr/B551011/DataLabService/metcoRegnVisitrDDList?numOfRows=1000&pageNo=57&MobileOS=ETC&MobileApp=AppTest&serviceKey=2s8gpTy4cAHLFmocDZh70QO94wQfxdEZMkauGakoluXCgPneCoqhFKJ7KqYE3FChzBbnNQrmtkZXPsJn8QQiGQ%3D%3D&_type=json&startYmd=20200101&endYmd=20240404\n",
      "http://apis.data.go.kr/B551011/DataLabService/metcoRegnVisitrDDList?numOfRows=1000&pageNo=58&MobileOS=ETC&MobileApp=AppTest&serviceKey=2s8gpTy4cAHLFmocDZh70QO94wQfxdEZMkauGakoluXCgPneCoqhFKJ7KqYE3FChzBbnNQrmtkZXPsJn8QQiGQ%3D%3D&_type=json&startYmd=20200101&endYmd=20240404\n",
      "http://apis.data.go.kr/B551011/DataLabService/metcoRegnVisitrDDList?numOfRows=1000&pageNo=59&MobileOS=ETC&MobileApp=AppTest&serviceKey=2s8gpTy4cAHLFmocDZh70QO94wQfxdEZMkauGakoluXCgPneCoqhFKJ7KqYE3FChzBbnNQrmtkZXPsJn8QQiGQ%3D%3D&_type=json&startYmd=20200101&endYmd=20240404\n",
      "http://apis.data.go.kr/B551011/DataLabService/metcoRegnVisitrDDList?numOfRows=1000&pageNo=60&MobileOS=ETC&MobileApp=AppTest&serviceKey=2s8gpTy4cAHLFmocDZh70QO94wQfxdEZMkauGakoluXCgPneCoqhFKJ7KqYE3FChzBbnNQrmtkZXPsJn8QQiGQ%3D%3D&_type=json&startYmd=20200101&endYmd=20240404\n",
      "http://apis.data.go.kr/B551011/DataLabService/metcoRegnVisitrDDList?numOfRows=1000&pageNo=61&MobileOS=ETC&MobileApp=AppTest&serviceKey=2s8gpTy4cAHLFmocDZh70QO94wQfxdEZMkauGakoluXCgPneCoqhFKJ7KqYE3FChzBbnNQrmtkZXPsJn8QQiGQ%3D%3D&_type=json&startYmd=20200101&endYmd=20240404\n",
      "http://apis.data.go.kr/B551011/DataLabService/metcoRegnVisitrDDList?numOfRows=1000&pageNo=62&MobileOS=ETC&MobileApp=AppTest&serviceKey=2s8gpTy4cAHLFmocDZh70QO94wQfxdEZMkauGakoluXCgPneCoqhFKJ7KqYE3FChzBbnNQrmtkZXPsJn8QQiGQ%3D%3D&_type=json&startYmd=20200101&endYmd=20240404\n"
     ]
    },
    {
     "name": "stdout",
     "output_type": "stream",
     "text": [
      "http://apis.data.go.kr/B551011/DataLabService/metcoRegnVisitrDDList?numOfRows=1000&pageNo=63&MobileOS=ETC&MobileApp=AppTest&serviceKey=2s8gpTy4cAHLFmocDZh70QO94wQfxdEZMkauGakoluXCgPneCoqhFKJ7KqYE3FChzBbnNQrmtkZXPsJn8QQiGQ%3D%3D&_type=json&startYmd=20200101&endYmd=20240404\n",
      "http://apis.data.go.kr/B551011/DataLabService/metcoRegnVisitrDDList?numOfRows=1000&pageNo=64&MobileOS=ETC&MobileApp=AppTest&serviceKey=2s8gpTy4cAHLFmocDZh70QO94wQfxdEZMkauGakoluXCgPneCoqhFKJ7KqYE3FChzBbnNQrmtkZXPsJn8QQiGQ%3D%3D&_type=json&startYmd=20200101&endYmd=20240404\n",
      "http://apis.data.go.kr/B551011/DataLabService/metcoRegnVisitrDDList?numOfRows=1000&pageNo=65&MobileOS=ETC&MobileApp=AppTest&serviceKey=2s8gpTy4cAHLFmocDZh70QO94wQfxdEZMkauGakoluXCgPneCoqhFKJ7KqYE3FChzBbnNQrmtkZXPsJn8QQiGQ%3D%3D&_type=json&startYmd=20200101&endYmd=20240404\n",
      "http://apis.data.go.kr/B551011/DataLabService/metcoRegnVisitrDDList?numOfRows=1000&pageNo=66&MobileOS=ETC&MobileApp=AppTest&serviceKey=2s8gpTy4cAHLFmocDZh70QO94wQfxdEZMkauGakoluXCgPneCoqhFKJ7KqYE3FChzBbnNQrmtkZXPsJn8QQiGQ%3D%3D&_type=json&startYmd=20200101&endYmd=20240404\n",
      "http://apis.data.go.kr/B551011/DataLabService/metcoRegnVisitrDDList?numOfRows=1000&pageNo=67&MobileOS=ETC&MobileApp=AppTest&serviceKey=2s8gpTy4cAHLFmocDZh70QO94wQfxdEZMkauGakoluXCgPneCoqhFKJ7KqYE3FChzBbnNQrmtkZXPsJn8QQiGQ%3D%3D&_type=json&startYmd=20200101&endYmd=20240404\n",
      "http://apis.data.go.kr/B551011/DataLabService/metcoRegnVisitrDDList?numOfRows=1000&pageNo=68&MobileOS=ETC&MobileApp=AppTest&serviceKey=2s8gpTy4cAHLFmocDZh70QO94wQfxdEZMkauGakoluXCgPneCoqhFKJ7KqYE3FChzBbnNQrmtkZXPsJn8QQiGQ%3D%3D&_type=json&startYmd=20200101&endYmd=20240404\n",
      "http://apis.data.go.kr/B551011/DataLabService/metcoRegnVisitrDDList?numOfRows=1000&pageNo=69&MobileOS=ETC&MobileApp=AppTest&serviceKey=2s8gpTy4cAHLFmocDZh70QO94wQfxdEZMkauGakoluXCgPneCoqhFKJ7KqYE3FChzBbnNQrmtkZXPsJn8QQiGQ%3D%3D&_type=json&startYmd=20200101&endYmd=20240404\n",
      "http://apis.data.go.kr/B551011/DataLabService/metcoRegnVisitrDDList?numOfRows=1000&pageNo=70&MobileOS=ETC&MobileApp=AppTest&serviceKey=2s8gpTy4cAHLFmocDZh70QO94wQfxdEZMkauGakoluXCgPneCoqhFKJ7KqYE3FChzBbnNQrmtkZXPsJn8QQiGQ%3D%3D&_type=json&startYmd=20200101&endYmd=20240404\n",
      "http://apis.data.go.kr/B551011/DataLabService/metcoRegnVisitrDDList?numOfRows=1000&pageNo=71&MobileOS=ETC&MobileApp=AppTest&serviceKey=2s8gpTy4cAHLFmocDZh70QO94wQfxdEZMkauGakoluXCgPneCoqhFKJ7KqYE3FChzBbnNQrmtkZXPsJn8QQiGQ%3D%3D&_type=json&startYmd=20200101&endYmd=20240404\n",
      "http://apis.data.go.kr/B551011/DataLabService/metcoRegnVisitrDDList?numOfRows=1000&pageNo=72&MobileOS=ETC&MobileApp=AppTest&serviceKey=2s8gpTy4cAHLFmocDZh70QO94wQfxdEZMkauGakoluXCgPneCoqhFKJ7KqYE3FChzBbnNQrmtkZXPsJn8QQiGQ%3D%3D&_type=json&startYmd=20200101&endYmd=20240404\n",
      "http://apis.data.go.kr/B551011/DataLabService/metcoRegnVisitrDDList?numOfRows=1000&pageNo=73&MobileOS=ETC&MobileApp=AppTest&serviceKey=2s8gpTy4cAHLFmocDZh70QO94wQfxdEZMkauGakoluXCgPneCoqhFKJ7KqYE3FChzBbnNQrmtkZXPsJn8QQiGQ%3D%3D&_type=json&startYmd=20200101&endYmd=20240404\n",
      "http://apis.data.go.kr/B551011/DataLabService/metcoRegnVisitrDDList?numOfRows=1000&pageNo=74&MobileOS=ETC&MobileApp=AppTest&serviceKey=2s8gpTy4cAHLFmocDZh70QO94wQfxdEZMkauGakoluXCgPneCoqhFKJ7KqYE3FChzBbnNQrmtkZXPsJn8QQiGQ%3D%3D&_type=json&startYmd=20200101&endYmd=20240404\n",
      "http://apis.data.go.kr/B551011/DataLabService/metcoRegnVisitrDDList?numOfRows=1000&pageNo=75&MobileOS=ETC&MobileApp=AppTest&serviceKey=2s8gpTy4cAHLFmocDZh70QO94wQfxdEZMkauGakoluXCgPneCoqhFKJ7KqYE3FChzBbnNQrmtkZXPsJn8QQiGQ%3D%3D&_type=json&startYmd=20200101&endYmd=20240404\n",
      "http://apis.data.go.kr/B551011/DataLabService/metcoRegnVisitrDDList?numOfRows=1000&pageNo=76&MobileOS=ETC&MobileApp=AppTest&serviceKey=2s8gpTy4cAHLFmocDZh70QO94wQfxdEZMkauGakoluXCgPneCoqhFKJ7KqYE3FChzBbnNQrmtkZXPsJn8QQiGQ%3D%3D&_type=json&startYmd=20200101&endYmd=20240404\n",
      "http://apis.data.go.kr/B551011/DataLabService/metcoRegnVisitrDDList?numOfRows=1000&pageNo=77&MobileOS=ETC&MobileApp=AppTest&serviceKey=2s8gpTy4cAHLFmocDZh70QO94wQfxdEZMkauGakoluXCgPneCoqhFKJ7KqYE3FChzBbnNQrmtkZXPsJn8QQiGQ%3D%3D&_type=json&startYmd=20200101&endYmd=20240404\n",
      "http://apis.data.go.kr/B551011/DataLabService/metcoRegnVisitrDDList?numOfRows=1000&pageNo=78&MobileOS=ETC&MobileApp=AppTest&serviceKey=2s8gpTy4cAHLFmocDZh70QO94wQfxdEZMkauGakoluXCgPneCoqhFKJ7KqYE3FChzBbnNQrmtkZXPsJn8QQiGQ%3D%3D&_type=json&startYmd=20200101&endYmd=20240404\n"
     ]
    }
   ],
   "source": [
    "df = pd.DataFrame()\n",
    "for i in range(1, request_cnt+1):\n",
    "    res = requests.get(url,params=get_params(max_numOfRows,i))\n",
    "    print(res.url)\n",
    "    \n",
    "    if res.status_code == 200:\n",
    "        dictionary = json.loads(res.text)\n",
    "        df_tmp = pd.json_normalize(dictionary['response']['body']['items']['item'])\n",
    "        df = pd.concat([df,df_tmp])\n",
    "    else : \n",
    "        print('가져오기 실패')\n",
    "        break"
   ]
  },
  {
   "cell_type": "code",
   "execution_count": 62,
   "id": "88a530f9",
   "metadata": {},
   "outputs": [
    {
     "data": {
      "text/plain": [
       "(77418, 8)"
      ]
     },
     "execution_count": 62,
     "metadata": {},
     "output_type": "execute_result"
    }
   ],
   "source": [
    "df.shape"
   ]
  },
  {
   "cell_type": "code",
   "execution_count": 63,
   "id": "4a73c608",
   "metadata": {},
   "outputs": [],
   "source": [
    "df.to_excel('관공공사_빅데이터.xlsx',index=False)"
   ]
  },
  {
   "cell_type": "code",
   "execution_count": 65,
   "id": "8da9e5d4",
   "metadata": {},
   "outputs": [],
   "source": [
    "data = pd.read_excel('관공공사_빅데이터.xlsx')"
   ]
  },
  {
   "cell_type": "code",
   "execution_count": 67,
   "id": "ddd34d05",
   "metadata": {},
   "outputs": [
    {
     "name": "stdout",
     "output_type": "stream",
     "text": [
      "<class 'pandas.core.frame.DataFrame'>\n",
      "RangeIndex: 77418 entries, 0 to 77417\n",
      "Data columns (total 8 columns):\n",
      " #   Column      Non-Null Count  Dtype  \n",
      "---  ------      --------------  -----  \n",
      " 0   areaCode    77418 non-null  int64  \n",
      " 1   areaNm      77418 non-null  object \n",
      " 2   daywkDivCd  77418 non-null  int64  \n",
      " 3   daywkDivNm  77418 non-null  object \n",
      " 4   touDivCd    77418 non-null  int64  \n",
      " 5   touDivNm    77418 non-null  object \n",
      " 6   touNum      77418 non-null  float64\n",
      " 7   baseYmd     77418 non-null  int64  \n",
      "dtypes: float64(1), int64(4), object(3)\n",
      "memory usage: 4.7+ MB\n"
     ]
    }
   ],
   "source": [
    "data.info()"
   ]
  },
  {
   "cell_type": "code",
   "execution_count": 68,
   "id": "c61e2632",
   "metadata": {},
   "outputs": [
    {
     "data": {
      "text/plain": [
       "Index(['areaCode', 'areaNm', 'daywkDivCd', 'daywkDivNm', 'touDivCd',\n",
       "       'touDivNm', 'touNum', 'baseYmd'],\n",
       "      dtype='object')"
      ]
     },
     "execution_count": 68,
     "metadata": {},
     "output_type": "execute_result"
    }
   ],
   "source": [
    "data.columns"
   ]
  },
  {
   "cell_type": "code",
   "execution_count": 69,
   "id": "d3c06630",
   "metadata": {},
   "outputs": [
    {
     "data": {
      "text/html": [
       "<div>\n",
       "<style scoped>\n",
       "    .dataframe tbody tr th:only-of-type {\n",
       "        vertical-align: middle;\n",
       "    }\n",
       "\n",
       "    .dataframe tbody tr th {\n",
       "        vertical-align: top;\n",
       "    }\n",
       "\n",
       "    .dataframe thead th {\n",
       "        text-align: right;\n",
       "    }\n",
       "</style>\n",
       "<table border=\"1\" class=\"dataframe\">\n",
       "  <thead>\n",
       "    <tr style=\"text-align: right;\">\n",
       "      <th></th>\n",
       "      <th>areaCode</th>\n",
       "      <th>areaNm</th>\n",
       "      <th>daywkDivCd</th>\n",
       "      <th>daywkDivNm</th>\n",
       "      <th>touDivCd</th>\n",
       "      <th>touDivNm</th>\n",
       "      <th>touNum</th>\n",
       "      <th>baseYmd</th>\n",
       "    </tr>\n",
       "  </thead>\n",
       "  <tbody>\n",
       "    <tr>\n",
       "      <th>0</th>\n",
       "      <td>11</td>\n",
       "      <td>서울특별시</td>\n",
       "      <td>1</td>\n",
       "      <td>월요일</td>\n",
       "      <td>1</td>\n",
       "      <td>현지인(a)</td>\n",
       "      <td>4.631750e+06</td>\n",
       "      <td>20200106</td>\n",
       "    </tr>\n",
       "    <tr>\n",
       "      <th>1</th>\n",
       "      <td>11</td>\n",
       "      <td>서울특별시</td>\n",
       "      <td>1</td>\n",
       "      <td>월요일</td>\n",
       "      <td>1</td>\n",
       "      <td>현지인(a)</td>\n",
       "      <td>4.686647e+06</td>\n",
       "      <td>20200113</td>\n",
       "    </tr>\n",
       "    <tr>\n",
       "      <th>2</th>\n",
       "      <td>11</td>\n",
       "      <td>서울특별시</td>\n",
       "      <td>1</td>\n",
       "      <td>월요일</td>\n",
       "      <td>1</td>\n",
       "      <td>현지인(a)</td>\n",
       "      <td>4.677138e+06</td>\n",
       "      <td>20200120</td>\n",
       "    </tr>\n",
       "    <tr>\n",
       "      <th>3</th>\n",
       "      <td>11</td>\n",
       "      <td>서울특별시</td>\n",
       "      <td>1</td>\n",
       "      <td>월요일</td>\n",
       "      <td>1</td>\n",
       "      <td>현지인(a)</td>\n",
       "      <td>3.704992e+06</td>\n",
       "      <td>20200127</td>\n",
       "    </tr>\n",
       "    <tr>\n",
       "      <th>4</th>\n",
       "      <td>11</td>\n",
       "      <td>서울특별시</td>\n",
       "      <td>1</td>\n",
       "      <td>월요일</td>\n",
       "      <td>1</td>\n",
       "      <td>현지인(a)</td>\n",
       "      <td>4.617148e+06</td>\n",
       "      <td>20200203</td>\n",
       "    </tr>\n",
       "    <tr>\n",
       "      <th>...</th>\n",
       "      <td>...</td>\n",
       "      <td>...</td>\n",
       "      <td>...</td>\n",
       "      <td>...</td>\n",
       "      <td>...</td>\n",
       "      <td>...</td>\n",
       "      <td>...</td>\n",
       "      <td>...</td>\n",
       "    </tr>\n",
       "    <tr>\n",
       "      <th>77413</th>\n",
       "      <td>52</td>\n",
       "      <td>전북특별자치도</td>\n",
       "      <td>7</td>\n",
       "      <td>일요일</td>\n",
       "      <td>3</td>\n",
       "      <td>외국인(c)</td>\n",
       "      <td>7.653358e+02</td>\n",
       "      <td>20240204</td>\n",
       "    </tr>\n",
       "    <tr>\n",
       "      <th>77414</th>\n",
       "      <td>52</td>\n",
       "      <td>전북특별자치도</td>\n",
       "      <td>7</td>\n",
       "      <td>일요일</td>\n",
       "      <td>3</td>\n",
       "      <td>외국인(c)</td>\n",
       "      <td>1.018267e+03</td>\n",
       "      <td>20240211</td>\n",
       "    </tr>\n",
       "    <tr>\n",
       "      <th>77415</th>\n",
       "      <td>52</td>\n",
       "      <td>전북특별자치도</td>\n",
       "      <td>7</td>\n",
       "      <td>일요일</td>\n",
       "      <td>3</td>\n",
       "      <td>외국인(c)</td>\n",
       "      <td>9.206861e+02</td>\n",
       "      <td>20240218</td>\n",
       "    </tr>\n",
       "    <tr>\n",
       "      <th>77416</th>\n",
       "      <td>52</td>\n",
       "      <td>전북특별자치도</td>\n",
       "      <td>7</td>\n",
       "      <td>일요일</td>\n",
       "      <td>3</td>\n",
       "      <td>외국인(c)</td>\n",
       "      <td>9.407389e+02</td>\n",
       "      <td>20240225</td>\n",
       "    </tr>\n",
       "    <tr>\n",
       "      <th>77417</th>\n",
       "      <td>52</td>\n",
       "      <td>전북특별자치도</td>\n",
       "      <td>7</td>\n",
       "      <td>일요일</td>\n",
       "      <td>3</td>\n",
       "      <td>외국인(c)</td>\n",
       "      <td>1.403717e+03</td>\n",
       "      <td>20240303</td>\n",
       "    </tr>\n",
       "  </tbody>\n",
       "</table>\n",
       "<p>77418 rows × 8 columns</p>\n",
       "</div>"
      ],
      "text/plain": [
       "       areaCode   areaNm  daywkDivCd daywkDivNm  touDivCd touDivNm  \\\n",
       "0            11    서울특별시           1        월요일         1   현지인(a)   \n",
       "1            11    서울특별시           1        월요일         1   현지인(a)   \n",
       "2            11    서울특별시           1        월요일         1   현지인(a)   \n",
       "3            11    서울특별시           1        월요일         1   현지인(a)   \n",
       "4            11    서울특별시           1        월요일         1   현지인(a)   \n",
       "...         ...      ...         ...        ...       ...      ...   \n",
       "77413        52  전북특별자치도           7        일요일         3   외국인(c)   \n",
       "77414        52  전북특별자치도           7        일요일         3   외국인(c)   \n",
       "77415        52  전북특별자치도           7        일요일         3   외국인(c)   \n",
       "77416        52  전북특별자치도           7        일요일         3   외국인(c)   \n",
       "77417        52  전북특별자치도           7        일요일         3   외국인(c)   \n",
       "\n",
       "             touNum   baseYmd  \n",
       "0      4.631750e+06  20200106  \n",
       "1      4.686647e+06  20200113  \n",
       "2      4.677138e+06  20200120  \n",
       "3      3.704992e+06  20200127  \n",
       "4      4.617148e+06  20200203  \n",
       "...             ...       ...  \n",
       "77413  7.653358e+02  20240204  \n",
       "77414  1.018267e+03  20240211  \n",
       "77415  9.206861e+02  20240218  \n",
       "77416  9.407389e+02  20240225  \n",
       "77417  1.403717e+03  20240303  \n",
       "\n",
       "[77418 rows x 8 columns]"
      ]
     },
     "execution_count": 69,
     "metadata": {},
     "output_type": "execute_result"
    }
   ],
   "source": [
    "data"
   ]
  },
  {
   "cell_type": "code",
   "execution_count": 72,
   "id": "3e16ba45",
   "metadata": {},
   "outputs": [
    {
     "data": {
      "text/plain": [
       "areaNm   touDivNm\n",
       "강원특별자치도  외국인(c)      5.699309e+02\n",
       "         외지인(b)      3.875215e+05\n",
       "         현지인(a)      9.376751e+05\n",
       "경기도      외국인(c)      3.861273e+03\n",
       "         외지인(b)      1.597646e+06\n",
       "         현지인(a)      6.065519e+06\n",
       "경상남도     외국인(c)      9.299850e+02\n",
       "         외지인(b)      4.010852e+05\n",
       "         현지인(a)      1.576087e+06\n",
       "경상북도     외국인(c)      4.420686e+02\n",
       "         외지인(b)      4.597582e+05\n",
       "         현지인(a)      1.350145e+06\n",
       "광주광역시    외국인(c)      1.370138e+02\n",
       "         외지인(b)      1.669113e+05\n",
       "         현지인(a)      7.053653e+05\n",
       "대구광역시    외국인(c)      3.373942e+02\n",
       "         외지인(b)      2.582982e+05\n",
       "         현지인(a)      1.152329e+06\n",
       "대전광역시    외국인(c)      2.187218e+02\n",
       "         외지인(b)      2.037400e+05\n",
       "         현지인(a)      7.056215e+05\n",
       "부산광역시    외국인(c)      1.989266e+03\n",
       "         외지인(b)      3.680123e+05\n",
       "         현지인(a)      1.418964e+06\n",
       "서울특별시    외국인(c)      8.977157e+03\n",
       "         외지인(b)      1.452026e+06\n",
       "         현지인(a)      4.465357e+06\n",
       "세종특별자치시  외국인(c)      6.436907e+01\n",
       "         외지인(b)      7.099038e+04\n",
       "         현지인(a)      1.595362e+05\n",
       "울산광역시    외국인(c)      3.430732e+02\n",
       "         외지인(b)      1.247795e+05\n",
       "         현지인(a)      5.189432e+05\n",
       "인천광역시    외국인(c)      6.446562e+03\n",
       "         외지인(b)      4.145900e+05\n",
       "         현지인(a)      1.232808e+06\n",
       "전라남도     외국인(c)      5.937806e+02\n",
       "         외지인(b)      3.285956e+05\n",
       "         현지인(a)      9.096390e+05\n",
       "전라북도     외국인(c)      3.249579e+02\n",
       "         외지인(b)      2.445722e+05\n",
       "         현지인(a)      9.587846e+05\n",
       "전북특별자치도  외국인(c)      9.705689e+02\n",
       "         외지인(b)      2.583598e+05\n",
       "         현지인(a)      9.675083e+05\n",
       "제주특별자치도  외국인(c)      1.223268e+03\n",
       "         외지인(b)      1.602422e+05\n",
       "         현지인(a)      5.171195e+05\n",
       "충청남도     외국인(c)      6.582709e+02\n",
       "         외지인(b)      4.131479e+05\n",
       "         현지인(a)      1.035183e+06\n",
       "충청북도     외국인(c)      3.843663e+02\n",
       "         외지인(b)      2.807434e+05\n",
       "         현지인(a)      7.716720e+05\n",
       "Name: touNum, dtype: float64"
      ]
     },
     "metadata": {},
     "output_type": "display_data"
    }
   ],
   "source": [
    "df = data[['areaNm','touDivNm','touNum','baseYmd']]\n",
    "display(df.groupby(['areaNm','touDivNm'])['touNum'].mean())"
   ]
  },
  {
   "cell_type": "code",
   "execution_count": null,
   "id": "200e8df3",
   "metadata": {},
   "outputs": [],
   "source": []
  }
 ],
 "metadata": {
  "kernelspec": {
   "display_name": "Python 3 (ipykernel)",
   "language": "python",
   "name": "python3"
  },
  "language_info": {
   "codemirror_mode": {
    "name": "ipython",
    "version": 3
   },
   "file_extension": ".py",
   "mimetype": "text/x-python",
   "name": "python",
   "nbconvert_exporter": "python",
   "pygments_lexer": "ipython3",
   "version": "3.11.5"
  },
  "toc": {
   "base_numbering": 1,
   "nav_menu": {},
   "number_sections": true,
   "sideBar": true,
   "skip_h1_title": false,
   "title_cell": "Table of Contents",
   "title_sidebar": "Contents",
   "toc_cell": false,
   "toc_position": {},
   "toc_section_display": true,
   "toc_window_display": false
  },
  "varInspector": {
   "cols": {
    "lenName": 16,
    "lenType": 16,
    "lenVar": 40
   },
   "kernels_config": {
    "python": {
     "delete_cmd_postfix": "",
     "delete_cmd_prefix": "del ",
     "library": "var_list.py",
     "varRefreshCmd": "print(var_dic_list())"
    },
    "r": {
     "delete_cmd_postfix": ") ",
     "delete_cmd_prefix": "rm(",
     "library": "var_list.r",
     "varRefreshCmd": "cat(var_dic_list()) "
    }
   },
   "types_to_exclude": [
    "module",
    "function",
    "builtin_function_or_method",
    "instance",
    "_Feature"
   ],
   "window_display": false
  }
 },
 "nbformat": 4,
 "nbformat_minor": 5
}
