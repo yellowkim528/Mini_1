{
 "cells": [
  {
   "cell_type": "code",
   "execution_count": 3,
   "id": "c69c7052",
   "metadata": {},
   "outputs": [],
   "source": [
    "import requests\n",
    "import pandas as pd\n",
    "import numpy as np\n",
    "import seaborn as sns\n",
    "import matplotlib.pyplot as plt\n",
    "import math"
   ]
  },
  {
   "cell_type": "code",
   "execution_count": 4,
   "id": "70ff1364",
   "metadata": {},
   "outputs": [],
   "source": [
    "# 한글설정 & 마이너스표시\n",
    "plt.rc('font',family='Malgun Gothic') \n",
    "plt.rc('axes',unicode_minus=False)"
   ]
  },
  {
   "cell_type": "code",
   "execution_count": 5,
   "id": "32f26474",
   "metadata": {},
   "outputs": [],
   "source": [
    "url = 'http://apis.data.go.kr/B551011/DataLabService/locgoRegnVisitrDDList'"
   ]
  },
  {
   "cell_type": "code",
   "execution_count": 13,
   "id": "c78b635d",
   "metadata": {},
   "outputs": [],
   "source": [
    "params = {\n",
    "    \n",
    "    \"numOfRows\" : 100,\n",
    "    \"pageNo\" : 1,\n",
    "    \"MobileOS\" : \"ETC\",\n",
    "    \"MobileApp\" : \"AppTest\",\n",
    "    \"serviceKey\" : \"2s8gpTy4cAHLFmocDZh70QO94wQfxdEZMkauGakoluXCgPneCoqhFKJ7KqYE3FChzBbnNQrmtkZXPsJn8QQiGQ==\",\n",
    "    \"_type\" : \"json\",\n",
    "    \"startYmd\" : \"20230101\",\n",
    "    \"endYmd\": \"20240101\",\n",
    "    \n",
    "}"
   ]
  },
  {
   "cell_type": "code",
   "execution_count": 14,
   "id": "b43fb470",
   "metadata": {},
   "outputs": [
    {
     "data": {
      "text/plain": [
       "200"
      ]
     },
     "execution_count": 14,
     "metadata": {},
     "output_type": "execute_result"
    }
   ],
   "source": [
    "res = requests.get(url,params=params)\n",
    "res.status_code"
   ]
  },
  {
   "cell_type": "code",
   "execution_count": 15,
   "id": "7220ccce",
   "metadata": {},
   "outputs": [],
   "source": [
    "json_str = res.text\n",
    "dictionary = pd.read_json(json_str)"
   ]
  },
  {
   "cell_type": "code",
   "execution_count": 16,
   "id": "de24e41d",
   "metadata": {},
   "outputs": [
    {
     "data": {
      "text/html": [
       "<div>\n",
       "<style scoped>\n",
       "    .dataframe tbody tr th:only-of-type {\n",
       "        vertical-align: middle;\n",
       "    }\n",
       "\n",
       "    .dataframe tbody tr th {\n",
       "        vertical-align: top;\n",
       "    }\n",
       "\n",
       "    .dataframe thead th {\n",
       "        text-align: right;\n",
       "    }\n",
       "</style>\n",
       "<table border=\"1\" class=\"dataframe\">\n",
       "  <thead>\n",
       "    <tr style=\"text-align: right;\">\n",
       "      <th></th>\n",
       "      <th>signguCode</th>\n",
       "      <th>signguNm</th>\n",
       "      <th>daywkDivCd</th>\n",
       "      <th>daywkDivNm</th>\n",
       "      <th>touDivCd</th>\n",
       "      <th>touDivNm</th>\n",
       "      <th>touNum</th>\n",
       "      <th>baseYmd</th>\n",
       "    </tr>\n",
       "  </thead>\n",
       "  <tbody>\n",
       "    <tr>\n",
       "      <th>0</th>\n",
       "      <td>11110</td>\n",
       "      <td>종로구</td>\n",
       "      <td>7</td>\n",
       "      <td>일요일</td>\n",
       "      <td>1</td>\n",
       "      <td>현지인(a)</td>\n",
       "      <td>97527.5</td>\n",
       "      <td>20230101</td>\n",
       "    </tr>\n",
       "    <tr>\n",
       "      <th>1</th>\n",
       "      <td>11110</td>\n",
       "      <td>종로구</td>\n",
       "      <td>7</td>\n",
       "      <td>일요일</td>\n",
       "      <td>2</td>\n",
       "      <td>외지인(b)</td>\n",
       "      <td>280150.5</td>\n",
       "      <td>20230101</td>\n",
       "    </tr>\n",
       "    <tr>\n",
       "      <th>2</th>\n",
       "      <td>11110</td>\n",
       "      <td>종로구</td>\n",
       "      <td>7</td>\n",
       "      <td>일요일</td>\n",
       "      <td>3</td>\n",
       "      <td>외국인(c)</td>\n",
       "      <td>1868.099999999999</td>\n",
       "      <td>20230101</td>\n",
       "    </tr>\n",
       "    <tr>\n",
       "      <th>3</th>\n",
       "      <td>11140</td>\n",
       "      <td>중구</td>\n",
       "      <td>7</td>\n",
       "      <td>일요일</td>\n",
       "      <td>1</td>\n",
       "      <td>현지인(a)</td>\n",
       "      <td>77854.0</td>\n",
       "      <td>20230101</td>\n",
       "    </tr>\n",
       "    <tr>\n",
       "      <th>4</th>\n",
       "      <td>11140</td>\n",
       "      <td>중구</td>\n",
       "      <td>7</td>\n",
       "      <td>일요일</td>\n",
       "      <td>2</td>\n",
       "      <td>외지인(b)</td>\n",
       "      <td>255276.0</td>\n",
       "      <td>20230101</td>\n",
       "    </tr>\n",
       "  </tbody>\n",
       "</table>\n",
       "</div>"
      ],
      "text/plain": [
       "  signguCode signguNm daywkDivCd daywkDivNm touDivCd touDivNm  \\\n",
       "0      11110      종로구          7        일요일        1   현지인(a)   \n",
       "1      11110      종로구          7        일요일        2   외지인(b)   \n",
       "2      11110      종로구          7        일요일        3   외국인(c)   \n",
       "3      11140       중구          7        일요일        1   현지인(a)   \n",
       "4      11140       중구          7        일요일        2   외지인(b)   \n",
       "\n",
       "              touNum   baseYmd  \n",
       "0            97527.5  20230101  \n",
       "1           280150.5  20230101  \n",
       "2  1868.099999999999  20230101  \n",
       "3            77854.0  20230101  \n",
       "4           255276.0  20230101  "
      ]
     },
     "execution_count": 16,
     "metadata": {},
     "output_type": "execute_result"
    }
   ],
   "source": [
    "df = pd.json_normalize(dictionary['response']['body']['items']['item'])\n",
    "df.head(5)"
   ]
  },
  {
   "cell_type": "code",
   "execution_count": 17,
   "id": "03f9a211",
   "metadata": {},
   "outputs": [],
   "source": [
    "max_numOfRows = 1000"
   ]
  },
  {
   "cell_type": "code",
   "execution_count": 18,
   "id": "3462237c",
   "metadata": {},
   "outputs": [
    {
     "data": {
      "text/plain": [
       "273693"
      ]
     },
     "execution_count": 18,
     "metadata": {},
     "output_type": "execute_result"
    }
   ],
   "source": [
    "totalCount = dictionary['response']['body']['totalCount']\n",
    "totalCount"
   ]
  },
  {
   "cell_type": "code",
   "execution_count": 19,
   "id": "3d5a4f14",
   "metadata": {},
   "outputs": [
    {
     "data": {
      "text/plain": [
       "274"
      ]
     },
     "execution_count": 19,
     "metadata": {},
     "output_type": "execute_result"
    }
   ],
   "source": [
    "request_cnt = math.ceil(totalCount / max_numOfRows)\n",
    "request_cnt"
   ]
  },
  {
   "cell_type": "code",
   "execution_count": 21,
   "id": "fb67aed0",
   "metadata": {},
   "outputs": [],
   "source": [
    "def get_params (numOfRows, req_cnt):\n",
    "    params = {\n",
    "\n",
    "        \"numOfRows\" : numOfRows,\n",
    "        \"pageNo\" : req_cnt,\n",
    "        \"MobileOS\" : \"ETC\",\n",
    "        \"MobileApp\" : \"AppTest\",\n",
    "        \"serviceKey\" : \"2s8gpTy4cAHLFmocDZh70QO94wQfxdEZMkauGakoluXCgPneCoqhFKJ7KqYE3FChzBbnNQrmtkZXPsJn8QQiGQ==\",\n",
    "        \"_type\" : \"json\",\n",
    "        \"startYmd\" : \"20230101\",\n",
    "        \"endYmd\": \"20240101\",\n",
    "\n",
    "    }\n",
    "    return params"
   ]
  },
  {
   "cell_type": "code",
   "execution_count": 22,
   "id": "8fbc38b0",
   "metadata": {
    "scrolled": true
   },
   "outputs": [
    {
     "name": "stdout",
     "output_type": "stream",
     "text": [
      "http://apis.data.go.kr/B551011/DataLabService/locgoRegnVisitrDDList?numOfRows=1000&pageNo=1&MobileOS=ETC&MobileApp=AppTest&serviceKey=2s8gpTy4cAHLFmocDZh70QO94wQfxdEZMkauGakoluXCgPneCoqhFKJ7KqYE3FChzBbnNQrmtkZXPsJn8QQiGQ%3D%3D&_type=json&startYmd=20230101&endYmd=20240101\n",
      "http://apis.data.go.kr/B551011/DataLabService/locgoRegnVisitrDDList?numOfRows=1000&pageNo=2&MobileOS=ETC&MobileApp=AppTest&serviceKey=2s8gpTy4cAHLFmocDZh70QO94wQfxdEZMkauGakoluXCgPneCoqhFKJ7KqYE3FChzBbnNQrmtkZXPsJn8QQiGQ%3D%3D&_type=json&startYmd=20230101&endYmd=20240101\n",
      "http://apis.data.go.kr/B551011/DataLabService/locgoRegnVisitrDDList?numOfRows=1000&pageNo=3&MobileOS=ETC&MobileApp=AppTest&serviceKey=2s8gpTy4cAHLFmocDZh70QO94wQfxdEZMkauGakoluXCgPneCoqhFKJ7KqYE3FChzBbnNQrmtkZXPsJn8QQiGQ%3D%3D&_type=json&startYmd=20230101&endYmd=20240101\n",
      "http://apis.data.go.kr/B551011/DataLabService/locgoRegnVisitrDDList?numOfRows=1000&pageNo=4&MobileOS=ETC&MobileApp=AppTest&serviceKey=2s8gpTy4cAHLFmocDZh70QO94wQfxdEZMkauGakoluXCgPneCoqhFKJ7KqYE3FChzBbnNQrmtkZXPsJn8QQiGQ%3D%3D&_type=json&startYmd=20230101&endYmd=20240101\n",
      "http://apis.data.go.kr/B551011/DataLabService/locgoRegnVisitrDDList?numOfRows=1000&pageNo=5&MobileOS=ETC&MobileApp=AppTest&serviceKey=2s8gpTy4cAHLFmocDZh70QO94wQfxdEZMkauGakoluXCgPneCoqhFKJ7KqYE3FChzBbnNQrmtkZXPsJn8QQiGQ%3D%3D&_type=json&startYmd=20230101&endYmd=20240101\n",
      "http://apis.data.go.kr/B551011/DataLabService/locgoRegnVisitrDDList?numOfRows=1000&pageNo=6&MobileOS=ETC&MobileApp=AppTest&serviceKey=2s8gpTy4cAHLFmocDZh70QO94wQfxdEZMkauGakoluXCgPneCoqhFKJ7KqYE3FChzBbnNQrmtkZXPsJn8QQiGQ%3D%3D&_type=json&startYmd=20230101&endYmd=20240101\n",
      "http://apis.data.go.kr/B551011/DataLabService/locgoRegnVisitrDDList?numOfRows=1000&pageNo=7&MobileOS=ETC&MobileApp=AppTest&serviceKey=2s8gpTy4cAHLFmocDZh70QO94wQfxdEZMkauGakoluXCgPneCoqhFKJ7KqYE3FChzBbnNQrmtkZXPsJn8QQiGQ%3D%3D&_type=json&startYmd=20230101&endYmd=20240101\n",
      "http://apis.data.go.kr/B551011/DataLabService/locgoRegnVisitrDDList?numOfRows=1000&pageNo=8&MobileOS=ETC&MobileApp=AppTest&serviceKey=2s8gpTy4cAHLFmocDZh70QO94wQfxdEZMkauGakoluXCgPneCoqhFKJ7KqYE3FChzBbnNQrmtkZXPsJn8QQiGQ%3D%3D&_type=json&startYmd=20230101&endYmd=20240101\n",
      "http://apis.data.go.kr/B551011/DataLabService/locgoRegnVisitrDDList?numOfRows=1000&pageNo=9&MobileOS=ETC&MobileApp=AppTest&serviceKey=2s8gpTy4cAHLFmocDZh70QO94wQfxdEZMkauGakoluXCgPneCoqhFKJ7KqYE3FChzBbnNQrmtkZXPsJn8QQiGQ%3D%3D&_type=json&startYmd=20230101&endYmd=20240101\n",
      "http://apis.data.go.kr/B551011/DataLabService/locgoRegnVisitrDDList?numOfRows=1000&pageNo=10&MobileOS=ETC&MobileApp=AppTest&serviceKey=2s8gpTy4cAHLFmocDZh70QO94wQfxdEZMkauGakoluXCgPneCoqhFKJ7KqYE3FChzBbnNQrmtkZXPsJn8QQiGQ%3D%3D&_type=json&startYmd=20230101&endYmd=20240101\n",
      "http://apis.data.go.kr/B551011/DataLabService/locgoRegnVisitrDDList?numOfRows=1000&pageNo=11&MobileOS=ETC&MobileApp=AppTest&serviceKey=2s8gpTy4cAHLFmocDZh70QO94wQfxdEZMkauGakoluXCgPneCoqhFKJ7KqYE3FChzBbnNQrmtkZXPsJn8QQiGQ%3D%3D&_type=json&startYmd=20230101&endYmd=20240101\n",
      "http://apis.data.go.kr/B551011/DataLabService/locgoRegnVisitrDDList?numOfRows=1000&pageNo=12&MobileOS=ETC&MobileApp=AppTest&serviceKey=2s8gpTy4cAHLFmocDZh70QO94wQfxdEZMkauGakoluXCgPneCoqhFKJ7KqYE3FChzBbnNQrmtkZXPsJn8QQiGQ%3D%3D&_type=json&startYmd=20230101&endYmd=20240101\n",
      "http://apis.data.go.kr/B551011/DataLabService/locgoRegnVisitrDDList?numOfRows=1000&pageNo=13&MobileOS=ETC&MobileApp=AppTest&serviceKey=2s8gpTy4cAHLFmocDZh70QO94wQfxdEZMkauGakoluXCgPneCoqhFKJ7KqYE3FChzBbnNQrmtkZXPsJn8QQiGQ%3D%3D&_type=json&startYmd=20230101&endYmd=20240101\n",
      "http://apis.data.go.kr/B551011/DataLabService/locgoRegnVisitrDDList?numOfRows=1000&pageNo=14&MobileOS=ETC&MobileApp=AppTest&serviceKey=2s8gpTy4cAHLFmocDZh70QO94wQfxdEZMkauGakoluXCgPneCoqhFKJ7KqYE3FChzBbnNQrmtkZXPsJn8QQiGQ%3D%3D&_type=json&startYmd=20230101&endYmd=20240101\n",
      "http://apis.data.go.kr/B551011/DataLabService/locgoRegnVisitrDDList?numOfRows=1000&pageNo=15&MobileOS=ETC&MobileApp=AppTest&serviceKey=2s8gpTy4cAHLFmocDZh70QO94wQfxdEZMkauGakoluXCgPneCoqhFKJ7KqYE3FChzBbnNQrmtkZXPsJn8QQiGQ%3D%3D&_type=json&startYmd=20230101&endYmd=20240101\n",
      "http://apis.data.go.kr/B551011/DataLabService/locgoRegnVisitrDDList?numOfRows=1000&pageNo=16&MobileOS=ETC&MobileApp=AppTest&serviceKey=2s8gpTy4cAHLFmocDZh70QO94wQfxdEZMkauGakoluXCgPneCoqhFKJ7KqYE3FChzBbnNQrmtkZXPsJn8QQiGQ%3D%3D&_type=json&startYmd=20230101&endYmd=20240101\n",
      "http://apis.data.go.kr/B551011/DataLabService/locgoRegnVisitrDDList?numOfRows=1000&pageNo=17&MobileOS=ETC&MobileApp=AppTest&serviceKey=2s8gpTy4cAHLFmocDZh70QO94wQfxdEZMkauGakoluXCgPneCoqhFKJ7KqYE3FChzBbnNQrmtkZXPsJn8QQiGQ%3D%3D&_type=json&startYmd=20230101&endYmd=20240101\n",
      "http://apis.data.go.kr/B551011/DataLabService/locgoRegnVisitrDDList?numOfRows=1000&pageNo=18&MobileOS=ETC&MobileApp=AppTest&serviceKey=2s8gpTy4cAHLFmocDZh70QO94wQfxdEZMkauGakoluXCgPneCoqhFKJ7KqYE3FChzBbnNQrmtkZXPsJn8QQiGQ%3D%3D&_type=json&startYmd=20230101&endYmd=20240101\n",
      "http://apis.data.go.kr/B551011/DataLabService/locgoRegnVisitrDDList?numOfRows=1000&pageNo=19&MobileOS=ETC&MobileApp=AppTest&serviceKey=2s8gpTy4cAHLFmocDZh70QO94wQfxdEZMkauGakoluXCgPneCoqhFKJ7KqYE3FChzBbnNQrmtkZXPsJn8QQiGQ%3D%3D&_type=json&startYmd=20230101&endYmd=20240101\n",
      "http://apis.data.go.kr/B551011/DataLabService/locgoRegnVisitrDDList?numOfRows=1000&pageNo=20&MobileOS=ETC&MobileApp=AppTest&serviceKey=2s8gpTy4cAHLFmocDZh70QO94wQfxdEZMkauGakoluXCgPneCoqhFKJ7KqYE3FChzBbnNQrmtkZXPsJn8QQiGQ%3D%3D&_type=json&startYmd=20230101&endYmd=20240101\n",
      "http://apis.data.go.kr/B551011/DataLabService/locgoRegnVisitrDDList?numOfRows=1000&pageNo=21&MobileOS=ETC&MobileApp=AppTest&serviceKey=2s8gpTy4cAHLFmocDZh70QO94wQfxdEZMkauGakoluXCgPneCoqhFKJ7KqYE3FChzBbnNQrmtkZXPsJn8QQiGQ%3D%3D&_type=json&startYmd=20230101&endYmd=20240101\n",
      "http://apis.data.go.kr/B551011/DataLabService/locgoRegnVisitrDDList?numOfRows=1000&pageNo=22&MobileOS=ETC&MobileApp=AppTest&serviceKey=2s8gpTy4cAHLFmocDZh70QO94wQfxdEZMkauGakoluXCgPneCoqhFKJ7KqYE3FChzBbnNQrmtkZXPsJn8QQiGQ%3D%3D&_type=json&startYmd=20230101&endYmd=20240101\n",
      "http://apis.data.go.kr/B551011/DataLabService/locgoRegnVisitrDDList?numOfRows=1000&pageNo=23&MobileOS=ETC&MobileApp=AppTest&serviceKey=2s8gpTy4cAHLFmocDZh70QO94wQfxdEZMkauGakoluXCgPneCoqhFKJ7KqYE3FChzBbnNQrmtkZXPsJn8QQiGQ%3D%3D&_type=json&startYmd=20230101&endYmd=20240101\n",
      "http://apis.data.go.kr/B551011/DataLabService/locgoRegnVisitrDDList?numOfRows=1000&pageNo=24&MobileOS=ETC&MobileApp=AppTest&serviceKey=2s8gpTy4cAHLFmocDZh70QO94wQfxdEZMkauGakoluXCgPneCoqhFKJ7KqYE3FChzBbnNQrmtkZXPsJn8QQiGQ%3D%3D&_type=json&startYmd=20230101&endYmd=20240101\n",
      "http://apis.data.go.kr/B551011/DataLabService/locgoRegnVisitrDDList?numOfRows=1000&pageNo=25&MobileOS=ETC&MobileApp=AppTest&serviceKey=2s8gpTy4cAHLFmocDZh70QO94wQfxdEZMkauGakoluXCgPneCoqhFKJ7KqYE3FChzBbnNQrmtkZXPsJn8QQiGQ%3D%3D&_type=json&startYmd=20230101&endYmd=20240101\n",
      "http://apis.data.go.kr/B551011/DataLabService/locgoRegnVisitrDDList?numOfRows=1000&pageNo=26&MobileOS=ETC&MobileApp=AppTest&serviceKey=2s8gpTy4cAHLFmocDZh70QO94wQfxdEZMkauGakoluXCgPneCoqhFKJ7KqYE3FChzBbnNQrmtkZXPsJn8QQiGQ%3D%3D&_type=json&startYmd=20230101&endYmd=20240101\n",
      "http://apis.data.go.kr/B551011/DataLabService/locgoRegnVisitrDDList?numOfRows=1000&pageNo=27&MobileOS=ETC&MobileApp=AppTest&serviceKey=2s8gpTy4cAHLFmocDZh70QO94wQfxdEZMkauGakoluXCgPneCoqhFKJ7KqYE3FChzBbnNQrmtkZXPsJn8QQiGQ%3D%3D&_type=json&startYmd=20230101&endYmd=20240101\n",
      "http://apis.data.go.kr/B551011/DataLabService/locgoRegnVisitrDDList?numOfRows=1000&pageNo=28&MobileOS=ETC&MobileApp=AppTest&serviceKey=2s8gpTy4cAHLFmocDZh70QO94wQfxdEZMkauGakoluXCgPneCoqhFKJ7KqYE3FChzBbnNQrmtkZXPsJn8QQiGQ%3D%3D&_type=json&startYmd=20230101&endYmd=20240101\n",
      "http://apis.data.go.kr/B551011/DataLabService/locgoRegnVisitrDDList?numOfRows=1000&pageNo=29&MobileOS=ETC&MobileApp=AppTest&serviceKey=2s8gpTy4cAHLFmocDZh70QO94wQfxdEZMkauGakoluXCgPneCoqhFKJ7KqYE3FChzBbnNQrmtkZXPsJn8QQiGQ%3D%3D&_type=json&startYmd=20230101&endYmd=20240101\n",
      "http://apis.data.go.kr/B551011/DataLabService/locgoRegnVisitrDDList?numOfRows=1000&pageNo=30&MobileOS=ETC&MobileApp=AppTest&serviceKey=2s8gpTy4cAHLFmocDZh70QO94wQfxdEZMkauGakoluXCgPneCoqhFKJ7KqYE3FChzBbnNQrmtkZXPsJn8QQiGQ%3D%3D&_type=json&startYmd=20230101&endYmd=20240101\n",
      "http://apis.data.go.kr/B551011/DataLabService/locgoRegnVisitrDDList?numOfRows=1000&pageNo=31&MobileOS=ETC&MobileApp=AppTest&serviceKey=2s8gpTy4cAHLFmocDZh70QO94wQfxdEZMkauGakoluXCgPneCoqhFKJ7KqYE3FChzBbnNQrmtkZXPsJn8QQiGQ%3D%3D&_type=json&startYmd=20230101&endYmd=20240101\n"
     ]
    },
    {
     "name": "stdout",
     "output_type": "stream",
     "text": [
      "http://apis.data.go.kr/B551011/DataLabService/locgoRegnVisitrDDList?numOfRows=1000&pageNo=32&MobileOS=ETC&MobileApp=AppTest&serviceKey=2s8gpTy4cAHLFmocDZh70QO94wQfxdEZMkauGakoluXCgPneCoqhFKJ7KqYE3FChzBbnNQrmtkZXPsJn8QQiGQ%3D%3D&_type=json&startYmd=20230101&endYmd=20240101\n",
      "http://apis.data.go.kr/B551011/DataLabService/locgoRegnVisitrDDList?numOfRows=1000&pageNo=33&MobileOS=ETC&MobileApp=AppTest&serviceKey=2s8gpTy4cAHLFmocDZh70QO94wQfxdEZMkauGakoluXCgPneCoqhFKJ7KqYE3FChzBbnNQrmtkZXPsJn8QQiGQ%3D%3D&_type=json&startYmd=20230101&endYmd=20240101\n",
      "http://apis.data.go.kr/B551011/DataLabService/locgoRegnVisitrDDList?numOfRows=1000&pageNo=34&MobileOS=ETC&MobileApp=AppTest&serviceKey=2s8gpTy4cAHLFmocDZh70QO94wQfxdEZMkauGakoluXCgPneCoqhFKJ7KqYE3FChzBbnNQrmtkZXPsJn8QQiGQ%3D%3D&_type=json&startYmd=20230101&endYmd=20240101\n",
      "http://apis.data.go.kr/B551011/DataLabService/locgoRegnVisitrDDList?numOfRows=1000&pageNo=35&MobileOS=ETC&MobileApp=AppTest&serviceKey=2s8gpTy4cAHLFmocDZh70QO94wQfxdEZMkauGakoluXCgPneCoqhFKJ7KqYE3FChzBbnNQrmtkZXPsJn8QQiGQ%3D%3D&_type=json&startYmd=20230101&endYmd=20240101\n",
      "http://apis.data.go.kr/B551011/DataLabService/locgoRegnVisitrDDList?numOfRows=1000&pageNo=36&MobileOS=ETC&MobileApp=AppTest&serviceKey=2s8gpTy4cAHLFmocDZh70QO94wQfxdEZMkauGakoluXCgPneCoqhFKJ7KqYE3FChzBbnNQrmtkZXPsJn8QQiGQ%3D%3D&_type=json&startYmd=20230101&endYmd=20240101\n",
      "http://apis.data.go.kr/B551011/DataLabService/locgoRegnVisitrDDList?numOfRows=1000&pageNo=37&MobileOS=ETC&MobileApp=AppTest&serviceKey=2s8gpTy4cAHLFmocDZh70QO94wQfxdEZMkauGakoluXCgPneCoqhFKJ7KqYE3FChzBbnNQrmtkZXPsJn8QQiGQ%3D%3D&_type=json&startYmd=20230101&endYmd=20240101\n",
      "http://apis.data.go.kr/B551011/DataLabService/locgoRegnVisitrDDList?numOfRows=1000&pageNo=38&MobileOS=ETC&MobileApp=AppTest&serviceKey=2s8gpTy4cAHLFmocDZh70QO94wQfxdEZMkauGakoluXCgPneCoqhFKJ7KqYE3FChzBbnNQrmtkZXPsJn8QQiGQ%3D%3D&_type=json&startYmd=20230101&endYmd=20240101\n",
      "http://apis.data.go.kr/B551011/DataLabService/locgoRegnVisitrDDList?numOfRows=1000&pageNo=39&MobileOS=ETC&MobileApp=AppTest&serviceKey=2s8gpTy4cAHLFmocDZh70QO94wQfxdEZMkauGakoluXCgPneCoqhFKJ7KqYE3FChzBbnNQrmtkZXPsJn8QQiGQ%3D%3D&_type=json&startYmd=20230101&endYmd=20240101\n",
      "http://apis.data.go.kr/B551011/DataLabService/locgoRegnVisitrDDList?numOfRows=1000&pageNo=40&MobileOS=ETC&MobileApp=AppTest&serviceKey=2s8gpTy4cAHLFmocDZh70QO94wQfxdEZMkauGakoluXCgPneCoqhFKJ7KqYE3FChzBbnNQrmtkZXPsJn8QQiGQ%3D%3D&_type=json&startYmd=20230101&endYmd=20240101\n",
      "http://apis.data.go.kr/B551011/DataLabService/locgoRegnVisitrDDList?numOfRows=1000&pageNo=41&MobileOS=ETC&MobileApp=AppTest&serviceKey=2s8gpTy4cAHLFmocDZh70QO94wQfxdEZMkauGakoluXCgPneCoqhFKJ7KqYE3FChzBbnNQrmtkZXPsJn8QQiGQ%3D%3D&_type=json&startYmd=20230101&endYmd=20240101\n",
      "http://apis.data.go.kr/B551011/DataLabService/locgoRegnVisitrDDList?numOfRows=1000&pageNo=42&MobileOS=ETC&MobileApp=AppTest&serviceKey=2s8gpTy4cAHLFmocDZh70QO94wQfxdEZMkauGakoluXCgPneCoqhFKJ7KqYE3FChzBbnNQrmtkZXPsJn8QQiGQ%3D%3D&_type=json&startYmd=20230101&endYmd=20240101\n",
      "http://apis.data.go.kr/B551011/DataLabService/locgoRegnVisitrDDList?numOfRows=1000&pageNo=43&MobileOS=ETC&MobileApp=AppTest&serviceKey=2s8gpTy4cAHLFmocDZh70QO94wQfxdEZMkauGakoluXCgPneCoqhFKJ7KqYE3FChzBbnNQrmtkZXPsJn8QQiGQ%3D%3D&_type=json&startYmd=20230101&endYmd=20240101\n",
      "http://apis.data.go.kr/B551011/DataLabService/locgoRegnVisitrDDList?numOfRows=1000&pageNo=44&MobileOS=ETC&MobileApp=AppTest&serviceKey=2s8gpTy4cAHLFmocDZh70QO94wQfxdEZMkauGakoluXCgPneCoqhFKJ7KqYE3FChzBbnNQrmtkZXPsJn8QQiGQ%3D%3D&_type=json&startYmd=20230101&endYmd=20240101\n",
      "http://apis.data.go.kr/B551011/DataLabService/locgoRegnVisitrDDList?numOfRows=1000&pageNo=45&MobileOS=ETC&MobileApp=AppTest&serviceKey=2s8gpTy4cAHLFmocDZh70QO94wQfxdEZMkauGakoluXCgPneCoqhFKJ7KqYE3FChzBbnNQrmtkZXPsJn8QQiGQ%3D%3D&_type=json&startYmd=20230101&endYmd=20240101\n",
      "http://apis.data.go.kr/B551011/DataLabService/locgoRegnVisitrDDList?numOfRows=1000&pageNo=46&MobileOS=ETC&MobileApp=AppTest&serviceKey=2s8gpTy4cAHLFmocDZh70QO94wQfxdEZMkauGakoluXCgPneCoqhFKJ7KqYE3FChzBbnNQrmtkZXPsJn8QQiGQ%3D%3D&_type=json&startYmd=20230101&endYmd=20240101\n",
      "http://apis.data.go.kr/B551011/DataLabService/locgoRegnVisitrDDList?numOfRows=1000&pageNo=47&MobileOS=ETC&MobileApp=AppTest&serviceKey=2s8gpTy4cAHLFmocDZh70QO94wQfxdEZMkauGakoluXCgPneCoqhFKJ7KqYE3FChzBbnNQrmtkZXPsJn8QQiGQ%3D%3D&_type=json&startYmd=20230101&endYmd=20240101\n",
      "http://apis.data.go.kr/B551011/DataLabService/locgoRegnVisitrDDList?numOfRows=1000&pageNo=48&MobileOS=ETC&MobileApp=AppTest&serviceKey=2s8gpTy4cAHLFmocDZh70QO94wQfxdEZMkauGakoluXCgPneCoqhFKJ7KqYE3FChzBbnNQrmtkZXPsJn8QQiGQ%3D%3D&_type=json&startYmd=20230101&endYmd=20240101\n",
      "http://apis.data.go.kr/B551011/DataLabService/locgoRegnVisitrDDList?numOfRows=1000&pageNo=49&MobileOS=ETC&MobileApp=AppTest&serviceKey=2s8gpTy4cAHLFmocDZh70QO94wQfxdEZMkauGakoluXCgPneCoqhFKJ7KqYE3FChzBbnNQrmtkZXPsJn8QQiGQ%3D%3D&_type=json&startYmd=20230101&endYmd=20240101\n",
      "http://apis.data.go.kr/B551011/DataLabService/locgoRegnVisitrDDList?numOfRows=1000&pageNo=50&MobileOS=ETC&MobileApp=AppTest&serviceKey=2s8gpTy4cAHLFmocDZh70QO94wQfxdEZMkauGakoluXCgPneCoqhFKJ7KqYE3FChzBbnNQrmtkZXPsJn8QQiGQ%3D%3D&_type=json&startYmd=20230101&endYmd=20240101\n",
      "http://apis.data.go.kr/B551011/DataLabService/locgoRegnVisitrDDList?numOfRows=1000&pageNo=51&MobileOS=ETC&MobileApp=AppTest&serviceKey=2s8gpTy4cAHLFmocDZh70QO94wQfxdEZMkauGakoluXCgPneCoqhFKJ7KqYE3FChzBbnNQrmtkZXPsJn8QQiGQ%3D%3D&_type=json&startYmd=20230101&endYmd=20240101\n",
      "http://apis.data.go.kr/B551011/DataLabService/locgoRegnVisitrDDList?numOfRows=1000&pageNo=52&MobileOS=ETC&MobileApp=AppTest&serviceKey=2s8gpTy4cAHLFmocDZh70QO94wQfxdEZMkauGakoluXCgPneCoqhFKJ7KqYE3FChzBbnNQrmtkZXPsJn8QQiGQ%3D%3D&_type=json&startYmd=20230101&endYmd=20240101\n",
      "http://apis.data.go.kr/B551011/DataLabService/locgoRegnVisitrDDList?numOfRows=1000&pageNo=53&MobileOS=ETC&MobileApp=AppTest&serviceKey=2s8gpTy4cAHLFmocDZh70QO94wQfxdEZMkauGakoluXCgPneCoqhFKJ7KqYE3FChzBbnNQrmtkZXPsJn8QQiGQ%3D%3D&_type=json&startYmd=20230101&endYmd=20240101\n",
      "http://apis.data.go.kr/B551011/DataLabService/locgoRegnVisitrDDList?numOfRows=1000&pageNo=54&MobileOS=ETC&MobileApp=AppTest&serviceKey=2s8gpTy4cAHLFmocDZh70QO94wQfxdEZMkauGakoluXCgPneCoqhFKJ7KqYE3FChzBbnNQrmtkZXPsJn8QQiGQ%3D%3D&_type=json&startYmd=20230101&endYmd=20240101\n",
      "http://apis.data.go.kr/B551011/DataLabService/locgoRegnVisitrDDList?numOfRows=1000&pageNo=55&MobileOS=ETC&MobileApp=AppTest&serviceKey=2s8gpTy4cAHLFmocDZh70QO94wQfxdEZMkauGakoluXCgPneCoqhFKJ7KqYE3FChzBbnNQrmtkZXPsJn8QQiGQ%3D%3D&_type=json&startYmd=20230101&endYmd=20240101\n",
      "http://apis.data.go.kr/B551011/DataLabService/locgoRegnVisitrDDList?numOfRows=1000&pageNo=56&MobileOS=ETC&MobileApp=AppTest&serviceKey=2s8gpTy4cAHLFmocDZh70QO94wQfxdEZMkauGakoluXCgPneCoqhFKJ7KqYE3FChzBbnNQrmtkZXPsJn8QQiGQ%3D%3D&_type=json&startYmd=20230101&endYmd=20240101\n",
      "http://apis.data.go.kr/B551011/DataLabService/locgoRegnVisitrDDList?numOfRows=1000&pageNo=57&MobileOS=ETC&MobileApp=AppTest&serviceKey=2s8gpTy4cAHLFmocDZh70QO94wQfxdEZMkauGakoluXCgPneCoqhFKJ7KqYE3FChzBbnNQrmtkZXPsJn8QQiGQ%3D%3D&_type=json&startYmd=20230101&endYmd=20240101\n",
      "http://apis.data.go.kr/B551011/DataLabService/locgoRegnVisitrDDList?numOfRows=1000&pageNo=58&MobileOS=ETC&MobileApp=AppTest&serviceKey=2s8gpTy4cAHLFmocDZh70QO94wQfxdEZMkauGakoluXCgPneCoqhFKJ7KqYE3FChzBbnNQrmtkZXPsJn8QQiGQ%3D%3D&_type=json&startYmd=20230101&endYmd=20240101\n",
      "http://apis.data.go.kr/B551011/DataLabService/locgoRegnVisitrDDList?numOfRows=1000&pageNo=59&MobileOS=ETC&MobileApp=AppTest&serviceKey=2s8gpTy4cAHLFmocDZh70QO94wQfxdEZMkauGakoluXCgPneCoqhFKJ7KqYE3FChzBbnNQrmtkZXPsJn8QQiGQ%3D%3D&_type=json&startYmd=20230101&endYmd=20240101\n",
      "http://apis.data.go.kr/B551011/DataLabService/locgoRegnVisitrDDList?numOfRows=1000&pageNo=60&MobileOS=ETC&MobileApp=AppTest&serviceKey=2s8gpTy4cAHLFmocDZh70QO94wQfxdEZMkauGakoluXCgPneCoqhFKJ7KqYE3FChzBbnNQrmtkZXPsJn8QQiGQ%3D%3D&_type=json&startYmd=20230101&endYmd=20240101\n",
      "http://apis.data.go.kr/B551011/DataLabService/locgoRegnVisitrDDList?numOfRows=1000&pageNo=61&MobileOS=ETC&MobileApp=AppTest&serviceKey=2s8gpTy4cAHLFmocDZh70QO94wQfxdEZMkauGakoluXCgPneCoqhFKJ7KqYE3FChzBbnNQrmtkZXPsJn8QQiGQ%3D%3D&_type=json&startYmd=20230101&endYmd=20240101\n",
      "http://apis.data.go.kr/B551011/DataLabService/locgoRegnVisitrDDList?numOfRows=1000&pageNo=62&MobileOS=ETC&MobileApp=AppTest&serviceKey=2s8gpTy4cAHLFmocDZh70QO94wQfxdEZMkauGakoluXCgPneCoqhFKJ7KqYE3FChzBbnNQrmtkZXPsJn8QQiGQ%3D%3D&_type=json&startYmd=20230101&endYmd=20240101\n"
     ]
    },
    {
     "name": "stdout",
     "output_type": "stream",
     "text": [
      "http://apis.data.go.kr/B551011/DataLabService/locgoRegnVisitrDDList?numOfRows=1000&pageNo=63&MobileOS=ETC&MobileApp=AppTest&serviceKey=2s8gpTy4cAHLFmocDZh70QO94wQfxdEZMkauGakoluXCgPneCoqhFKJ7KqYE3FChzBbnNQrmtkZXPsJn8QQiGQ%3D%3D&_type=json&startYmd=20230101&endYmd=20240101\n",
      "http://apis.data.go.kr/B551011/DataLabService/locgoRegnVisitrDDList?numOfRows=1000&pageNo=64&MobileOS=ETC&MobileApp=AppTest&serviceKey=2s8gpTy4cAHLFmocDZh70QO94wQfxdEZMkauGakoluXCgPneCoqhFKJ7KqYE3FChzBbnNQrmtkZXPsJn8QQiGQ%3D%3D&_type=json&startYmd=20230101&endYmd=20240101\n",
      "http://apis.data.go.kr/B551011/DataLabService/locgoRegnVisitrDDList?numOfRows=1000&pageNo=65&MobileOS=ETC&MobileApp=AppTest&serviceKey=2s8gpTy4cAHLFmocDZh70QO94wQfxdEZMkauGakoluXCgPneCoqhFKJ7KqYE3FChzBbnNQrmtkZXPsJn8QQiGQ%3D%3D&_type=json&startYmd=20230101&endYmd=20240101\n",
      "http://apis.data.go.kr/B551011/DataLabService/locgoRegnVisitrDDList?numOfRows=1000&pageNo=66&MobileOS=ETC&MobileApp=AppTest&serviceKey=2s8gpTy4cAHLFmocDZh70QO94wQfxdEZMkauGakoluXCgPneCoqhFKJ7KqYE3FChzBbnNQrmtkZXPsJn8QQiGQ%3D%3D&_type=json&startYmd=20230101&endYmd=20240101\n",
      "http://apis.data.go.kr/B551011/DataLabService/locgoRegnVisitrDDList?numOfRows=1000&pageNo=67&MobileOS=ETC&MobileApp=AppTest&serviceKey=2s8gpTy4cAHLFmocDZh70QO94wQfxdEZMkauGakoluXCgPneCoqhFKJ7KqYE3FChzBbnNQrmtkZXPsJn8QQiGQ%3D%3D&_type=json&startYmd=20230101&endYmd=20240101\n",
      "http://apis.data.go.kr/B551011/DataLabService/locgoRegnVisitrDDList?numOfRows=1000&pageNo=68&MobileOS=ETC&MobileApp=AppTest&serviceKey=2s8gpTy4cAHLFmocDZh70QO94wQfxdEZMkauGakoluXCgPneCoqhFKJ7KqYE3FChzBbnNQrmtkZXPsJn8QQiGQ%3D%3D&_type=json&startYmd=20230101&endYmd=20240101\n",
      "http://apis.data.go.kr/B551011/DataLabService/locgoRegnVisitrDDList?numOfRows=1000&pageNo=69&MobileOS=ETC&MobileApp=AppTest&serviceKey=2s8gpTy4cAHLFmocDZh70QO94wQfxdEZMkauGakoluXCgPneCoqhFKJ7KqYE3FChzBbnNQrmtkZXPsJn8QQiGQ%3D%3D&_type=json&startYmd=20230101&endYmd=20240101\n",
      "http://apis.data.go.kr/B551011/DataLabService/locgoRegnVisitrDDList?numOfRows=1000&pageNo=70&MobileOS=ETC&MobileApp=AppTest&serviceKey=2s8gpTy4cAHLFmocDZh70QO94wQfxdEZMkauGakoluXCgPneCoqhFKJ7KqYE3FChzBbnNQrmtkZXPsJn8QQiGQ%3D%3D&_type=json&startYmd=20230101&endYmd=20240101\n",
      "http://apis.data.go.kr/B551011/DataLabService/locgoRegnVisitrDDList?numOfRows=1000&pageNo=71&MobileOS=ETC&MobileApp=AppTest&serviceKey=2s8gpTy4cAHLFmocDZh70QO94wQfxdEZMkauGakoluXCgPneCoqhFKJ7KqYE3FChzBbnNQrmtkZXPsJn8QQiGQ%3D%3D&_type=json&startYmd=20230101&endYmd=20240101\n"
     ]
    },
    {
     "ename": "JSONDecodeError",
     "evalue": "Expecting value: line 1 column 1 (char 0)",
     "output_type": "error",
     "traceback": [
      "\u001b[1;31m---------------------------------------------------------------------------\u001b[0m",
      "\u001b[1;31mJSONDecodeError\u001b[0m                           Traceback (most recent call last)",
      "Cell \u001b[1;32mIn[22], line 7\u001b[0m\n\u001b[0;32m      4\u001b[0m \u001b[38;5;28mprint\u001b[39m(res\u001b[38;5;241m.\u001b[39murl)\n\u001b[0;32m      6\u001b[0m \u001b[38;5;28;01mif\u001b[39;00m res\u001b[38;5;241m.\u001b[39mstatus_code \u001b[38;5;241m==\u001b[39m \u001b[38;5;241m200\u001b[39m:\n\u001b[1;32m----> 7\u001b[0m     dictionary \u001b[38;5;241m=\u001b[39m json\u001b[38;5;241m.\u001b[39mloads(res\u001b[38;5;241m.\u001b[39mtext)\n\u001b[0;32m      8\u001b[0m     df_tmp \u001b[38;5;241m=\u001b[39m pd\u001b[38;5;241m.\u001b[39mjson_normalize(dictionary[\u001b[38;5;124m'\u001b[39m\u001b[38;5;124mresponse\u001b[39m\u001b[38;5;124m'\u001b[39m][\u001b[38;5;124m'\u001b[39m\u001b[38;5;124mbody\u001b[39m\u001b[38;5;124m'\u001b[39m][\u001b[38;5;124m'\u001b[39m\u001b[38;5;124mitems\u001b[39m\u001b[38;5;124m'\u001b[39m][\u001b[38;5;124m'\u001b[39m\u001b[38;5;124mitem\u001b[39m\u001b[38;5;124m'\u001b[39m])\n\u001b[0;32m      9\u001b[0m     df \u001b[38;5;241m=\u001b[39m pd\u001b[38;5;241m.\u001b[39mconcat([df,df_tmp])\n",
      "File \u001b[1;32md:\\kdt\\anaconda3\\Lib\\json\\__init__.py:346\u001b[0m, in \u001b[0;36mloads\u001b[1;34m(s, cls, object_hook, parse_float, parse_int, parse_constant, object_pairs_hook, **kw)\u001b[0m\n\u001b[0;32m    341\u001b[0m     s \u001b[38;5;241m=\u001b[39m s\u001b[38;5;241m.\u001b[39mdecode(detect_encoding(s), \u001b[38;5;124m'\u001b[39m\u001b[38;5;124msurrogatepass\u001b[39m\u001b[38;5;124m'\u001b[39m)\n\u001b[0;32m    343\u001b[0m \u001b[38;5;28;01mif\u001b[39;00m (\u001b[38;5;28mcls\u001b[39m \u001b[38;5;129;01mis\u001b[39;00m \u001b[38;5;28;01mNone\u001b[39;00m \u001b[38;5;129;01mand\u001b[39;00m object_hook \u001b[38;5;129;01mis\u001b[39;00m \u001b[38;5;28;01mNone\u001b[39;00m \u001b[38;5;129;01mand\u001b[39;00m\n\u001b[0;32m    344\u001b[0m         parse_int \u001b[38;5;129;01mis\u001b[39;00m \u001b[38;5;28;01mNone\u001b[39;00m \u001b[38;5;129;01mand\u001b[39;00m parse_float \u001b[38;5;129;01mis\u001b[39;00m \u001b[38;5;28;01mNone\u001b[39;00m \u001b[38;5;129;01mand\u001b[39;00m\n\u001b[0;32m    345\u001b[0m         parse_constant \u001b[38;5;129;01mis\u001b[39;00m \u001b[38;5;28;01mNone\u001b[39;00m \u001b[38;5;129;01mand\u001b[39;00m object_pairs_hook \u001b[38;5;129;01mis\u001b[39;00m \u001b[38;5;28;01mNone\u001b[39;00m \u001b[38;5;129;01mand\u001b[39;00m \u001b[38;5;129;01mnot\u001b[39;00m kw):\n\u001b[1;32m--> 346\u001b[0m     \u001b[38;5;28;01mreturn\u001b[39;00m _default_decoder\u001b[38;5;241m.\u001b[39mdecode(s)\n\u001b[0;32m    347\u001b[0m \u001b[38;5;28;01mif\u001b[39;00m \u001b[38;5;28mcls\u001b[39m \u001b[38;5;129;01mis\u001b[39;00m \u001b[38;5;28;01mNone\u001b[39;00m:\n\u001b[0;32m    348\u001b[0m     \u001b[38;5;28mcls\u001b[39m \u001b[38;5;241m=\u001b[39m JSONDecoder\n",
      "File \u001b[1;32md:\\kdt\\anaconda3\\Lib\\json\\decoder.py:337\u001b[0m, in \u001b[0;36mJSONDecoder.decode\u001b[1;34m(self, s, _w)\u001b[0m\n\u001b[0;32m    332\u001b[0m \u001b[38;5;28;01mdef\u001b[39;00m \u001b[38;5;21mdecode\u001b[39m(\u001b[38;5;28mself\u001b[39m, s, _w\u001b[38;5;241m=\u001b[39mWHITESPACE\u001b[38;5;241m.\u001b[39mmatch):\n\u001b[0;32m    333\u001b[0m \u001b[38;5;250m    \u001b[39m\u001b[38;5;124;03m\"\"\"Return the Python representation of ``s`` (a ``str`` instance\u001b[39;00m\n\u001b[0;32m    334\u001b[0m \u001b[38;5;124;03m    containing a JSON document).\u001b[39;00m\n\u001b[0;32m    335\u001b[0m \n\u001b[0;32m    336\u001b[0m \u001b[38;5;124;03m    \"\"\"\u001b[39;00m\n\u001b[1;32m--> 337\u001b[0m     obj, end \u001b[38;5;241m=\u001b[39m \u001b[38;5;28mself\u001b[39m\u001b[38;5;241m.\u001b[39mraw_decode(s, idx\u001b[38;5;241m=\u001b[39m_w(s, \u001b[38;5;241m0\u001b[39m)\u001b[38;5;241m.\u001b[39mend())\n\u001b[0;32m    338\u001b[0m     end \u001b[38;5;241m=\u001b[39m _w(s, end)\u001b[38;5;241m.\u001b[39mend()\n\u001b[0;32m    339\u001b[0m     \u001b[38;5;28;01mif\u001b[39;00m end \u001b[38;5;241m!=\u001b[39m \u001b[38;5;28mlen\u001b[39m(s):\n",
      "File \u001b[1;32md:\\kdt\\anaconda3\\Lib\\json\\decoder.py:355\u001b[0m, in \u001b[0;36mJSONDecoder.raw_decode\u001b[1;34m(self, s, idx)\u001b[0m\n\u001b[0;32m    353\u001b[0m     obj, end \u001b[38;5;241m=\u001b[39m \u001b[38;5;28mself\u001b[39m\u001b[38;5;241m.\u001b[39mscan_once(s, idx)\n\u001b[0;32m    354\u001b[0m \u001b[38;5;28;01mexcept\u001b[39;00m \u001b[38;5;167;01mStopIteration\u001b[39;00m \u001b[38;5;28;01mas\u001b[39;00m err:\n\u001b[1;32m--> 355\u001b[0m     \u001b[38;5;28;01mraise\u001b[39;00m JSONDecodeError(\u001b[38;5;124m\"\u001b[39m\u001b[38;5;124mExpecting value\u001b[39m\u001b[38;5;124m\"\u001b[39m, s, err\u001b[38;5;241m.\u001b[39mvalue) \u001b[38;5;28;01mfrom\u001b[39;00m \u001b[38;5;28;01mNone\u001b[39;00m\n\u001b[0;32m    356\u001b[0m \u001b[38;5;28;01mreturn\u001b[39;00m obj, end\n",
      "\u001b[1;31mJSONDecodeError\u001b[0m: Expecting value: line 1 column 1 (char 0)"
     ]
    }
   ],
   "source": [
    "df = pd.DataFrame()\n",
    "for i in range(1, request_cnt+1):\n",
    "    res = requests.get(url,params=get_params(max_numOfRows,i))\n",
    "    print(res.url)\n",
    "    \n",
    "    if res.status_code == 200:\n",
    "        dictionary = json.loads(res.text)\n",
    "        df_tmp = pd.json_normalize(dictionary['response']['body']['items']['item'])\n",
    "        df = pd.concat([df,df_tmp])\n",
    "    else : \n",
    "        print('가져오기 실패')\n",
    "        break"
   ]
  },
  {
   "cell_type": "code",
   "execution_count": 23,
   "id": "c59f4537",
   "metadata": {},
   "outputs": [],
   "source": [
    "df.to_excel('기초지자체.xlsx',index=False)"
   ]
  },
  {
   "cell_type": "code",
   "execution_count": null,
   "id": "55c83b8a",
   "metadata": {},
   "outputs": [],
   "source": []
  }
 ],
 "metadata": {
  "kernelspec": {
   "display_name": "Python 3 (ipykernel)",
   "language": "python",
   "name": "python3"
  },
  "language_info": {
   "codemirror_mode": {
    "name": "ipython",
    "version": 3
   },
   "file_extension": ".py",
   "mimetype": "text/x-python",
   "name": "python",
   "nbconvert_exporter": "python",
   "pygments_lexer": "ipython3",
   "version": "3.11.5"
  },
  "toc": {
   "base_numbering": 1,
   "nav_menu": {},
   "number_sections": true,
   "sideBar": true,
   "skip_h1_title": false,
   "title_cell": "Table of Contents",
   "title_sidebar": "Contents",
   "toc_cell": false,
   "toc_position": {},
   "toc_section_display": true,
   "toc_window_display": false
  },
  "varInspector": {
   "cols": {
    "lenName": 16,
    "lenType": 16,
    "lenVar": 40
   },
   "kernels_config": {
    "python": {
     "delete_cmd_postfix": "",
     "delete_cmd_prefix": "del ",
     "library": "var_list.py",
     "varRefreshCmd": "print(var_dic_list())"
    },
    "r": {
     "delete_cmd_postfix": ") ",
     "delete_cmd_prefix": "rm(",
     "library": "var_list.r",
     "varRefreshCmd": "cat(var_dic_list()) "
    }
   },
   "types_to_exclude": [
    "module",
    "function",
    "builtin_function_or_method",
    "instance",
    "_Feature"
   ],
   "window_display": false
  }
 },
 "nbformat": 4,
 "nbformat_minor": 5
}
